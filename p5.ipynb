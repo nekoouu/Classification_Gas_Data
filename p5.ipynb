{
  "nbformat": 4,
  "nbformat_minor": 0,
  "metadata": {
    "colab": {
      "provenance": []
    },
    "kernelspec": {
      "name": "python3",
      "display_name": "Python 3"
    },
    "language_info": {
      "name": "python"
    }
  },
  "cells": [
    {
      "cell_type": "code",
      "execution_count": null,
      "metadata": {
        "id": "I_p0ys5gNWpt"
      },
      "outputs": [],
      "source": [
        "#in the name of GOD"
      ]
    },
    {
      "cell_type": "code",
      "source": [
        "from google.colab import drive\n",
        "drive.mount('/content/drive')"
      ],
      "metadata": {
        "colab": {
          "base_uri": "https://localhost:8080/"
        },
        "id": "t0T45OKBO33D",
        "outputId": "2e465314-c7bc-467f-d4d3-02accd0e674a"
      },
      "execution_count": null,
      "outputs": [
        {
          "output_type": "stream",
          "name": "stdout",
          "text": [
            "Drive already mounted at /content/drive; to attempt to forcibly remount, call drive.mount(\"/content/drive\", force_remount=True).\n"
          ]
        }
      ]
    },
    {
      "cell_type": "code",
      "source": [
        "import pandas as pd\n",
        "import numpy as np"
      ],
      "metadata": {
        "id": "Xr7H_w4dPI1D"
      },
      "execution_count": null,
      "outputs": []
    },
    {
      "cell_type": "code",
      "source": [
        "Gas_Sensors_Measurements = pd.read_csv('/content/drive/MyDrive/datasets/DM_P5/Gas Sensors Measurements/Gas_Sensors_Measurements.csv')\n",
        "data = Gas_Sensors_Measurements"
      ],
      "metadata": {
        "id": "Y8B7ULFTO9bX"
      },
      "execution_count": null,
      "outputs": []
    },
    {
      "cell_type": "code",
      "source": [
        "data"
      ],
      "metadata": {
        "colab": {
          "base_uri": "https://localhost:8080/",
          "height": 441
        },
        "id": "kzbTFju1QeCy",
        "outputId": "46116ccc-09e2-4406-9081-cc8a7e6eac8c"
      },
      "execution_count": null,
      "outputs": [
        {
          "output_type": "execute_result",
          "data": {
            "text/plain": [
              "      Serial Number  MQ2  MQ3  MQ5  MQ6  MQ7  MQ8  MQ135      Gas  \\\n",
              "0                 0  555  515  377  338  666  451    416    NoGas   \n",
              "1                 1  555  516  377  339  666  451    416    NoGas   \n",
              "2                 2  556  517  376  337  666  451    416    NoGas   \n",
              "3                 3  556  516  376  336  665  451    416    NoGas   \n",
              "4                 4  556  516  376  337  665  451    416    NoGas   \n",
              "...             ...  ...  ...  ...  ...  ...  ...    ...      ...   \n",
              "6395           1595  658  445  455  414  491  321    436  Mixture   \n",
              "6396           1596  650  444  451  411  486  317    431  Mixture   \n",
              "6397           1597  630  443  446  407  474  312    429  Mixture   \n",
              "6398           1598  632  443  444  405  471  309    430  Mixture   \n",
              "6399           1599  633  442  442  402  468  306    434  Mixture   \n",
              "\n",
              "     Corresponding Image Name  \n",
              "0                     0_NoGas  \n",
              "1                     1_NoGas  \n",
              "2                     2_NoGas  \n",
              "3                     3_NoGas  \n",
              "4                     4_NoGas  \n",
              "...                       ...  \n",
              "6395             1595_Mixture  \n",
              "6396             1596_Mixture  \n",
              "6397             1597_Mixture  \n",
              "6398             1598_Mixture  \n",
              "6399             1599_Mixture  \n",
              "\n",
              "[6400 rows x 10 columns]"
            ],
            "text/html": [
              "\n",
              "  <div id=\"df-0bce3d80-082a-483a-9cf1-548757c85143\" class=\"colab-df-container\">\n",
              "    <div>\n",
              "<style scoped>\n",
              "    .dataframe tbody tr th:only-of-type {\n",
              "        vertical-align: middle;\n",
              "    }\n",
              "\n",
              "    .dataframe tbody tr th {\n",
              "        vertical-align: top;\n",
              "    }\n",
              "\n",
              "    .dataframe thead th {\n",
              "        text-align: right;\n",
              "    }\n",
              "</style>\n",
              "<table border=\"1\" class=\"dataframe\">\n",
              "  <thead>\n",
              "    <tr style=\"text-align: right;\">\n",
              "      <th></th>\n",
              "      <th>Serial Number</th>\n",
              "      <th>MQ2</th>\n",
              "      <th>MQ3</th>\n",
              "      <th>MQ5</th>\n",
              "      <th>MQ6</th>\n",
              "      <th>MQ7</th>\n",
              "      <th>MQ8</th>\n",
              "      <th>MQ135</th>\n",
              "      <th>Gas</th>\n",
              "      <th>Corresponding Image Name</th>\n",
              "    </tr>\n",
              "  </thead>\n",
              "  <tbody>\n",
              "    <tr>\n",
              "      <th>0</th>\n",
              "      <td>0</td>\n",
              "      <td>555</td>\n",
              "      <td>515</td>\n",
              "      <td>377</td>\n",
              "      <td>338</td>\n",
              "      <td>666</td>\n",
              "      <td>451</td>\n",
              "      <td>416</td>\n",
              "      <td>NoGas</td>\n",
              "      <td>0_NoGas</td>\n",
              "    </tr>\n",
              "    <tr>\n",
              "      <th>1</th>\n",
              "      <td>1</td>\n",
              "      <td>555</td>\n",
              "      <td>516</td>\n",
              "      <td>377</td>\n",
              "      <td>339</td>\n",
              "      <td>666</td>\n",
              "      <td>451</td>\n",
              "      <td>416</td>\n",
              "      <td>NoGas</td>\n",
              "      <td>1_NoGas</td>\n",
              "    </tr>\n",
              "    <tr>\n",
              "      <th>2</th>\n",
              "      <td>2</td>\n",
              "      <td>556</td>\n",
              "      <td>517</td>\n",
              "      <td>376</td>\n",
              "      <td>337</td>\n",
              "      <td>666</td>\n",
              "      <td>451</td>\n",
              "      <td>416</td>\n",
              "      <td>NoGas</td>\n",
              "      <td>2_NoGas</td>\n",
              "    </tr>\n",
              "    <tr>\n",
              "      <th>3</th>\n",
              "      <td>3</td>\n",
              "      <td>556</td>\n",
              "      <td>516</td>\n",
              "      <td>376</td>\n",
              "      <td>336</td>\n",
              "      <td>665</td>\n",
              "      <td>451</td>\n",
              "      <td>416</td>\n",
              "      <td>NoGas</td>\n",
              "      <td>3_NoGas</td>\n",
              "    </tr>\n",
              "    <tr>\n",
              "      <th>4</th>\n",
              "      <td>4</td>\n",
              "      <td>556</td>\n",
              "      <td>516</td>\n",
              "      <td>376</td>\n",
              "      <td>337</td>\n",
              "      <td>665</td>\n",
              "      <td>451</td>\n",
              "      <td>416</td>\n",
              "      <td>NoGas</td>\n",
              "      <td>4_NoGas</td>\n",
              "    </tr>\n",
              "    <tr>\n",
              "      <th>...</th>\n",
              "      <td>...</td>\n",
              "      <td>...</td>\n",
              "      <td>...</td>\n",
              "      <td>...</td>\n",
              "      <td>...</td>\n",
              "      <td>...</td>\n",
              "      <td>...</td>\n",
              "      <td>...</td>\n",
              "      <td>...</td>\n",
              "      <td>...</td>\n",
              "    </tr>\n",
              "    <tr>\n",
              "      <th>6395</th>\n",
              "      <td>1595</td>\n",
              "      <td>658</td>\n",
              "      <td>445</td>\n",
              "      <td>455</td>\n",
              "      <td>414</td>\n",
              "      <td>491</td>\n",
              "      <td>321</td>\n",
              "      <td>436</td>\n",
              "      <td>Mixture</td>\n",
              "      <td>1595_Mixture</td>\n",
              "    </tr>\n",
              "    <tr>\n",
              "      <th>6396</th>\n",
              "      <td>1596</td>\n",
              "      <td>650</td>\n",
              "      <td>444</td>\n",
              "      <td>451</td>\n",
              "      <td>411</td>\n",
              "      <td>486</td>\n",
              "      <td>317</td>\n",
              "      <td>431</td>\n",
              "      <td>Mixture</td>\n",
              "      <td>1596_Mixture</td>\n",
              "    </tr>\n",
              "    <tr>\n",
              "      <th>6397</th>\n",
              "      <td>1597</td>\n",
              "      <td>630</td>\n",
              "      <td>443</td>\n",
              "      <td>446</td>\n",
              "      <td>407</td>\n",
              "      <td>474</td>\n",
              "      <td>312</td>\n",
              "      <td>429</td>\n",
              "      <td>Mixture</td>\n",
              "      <td>1597_Mixture</td>\n",
              "    </tr>\n",
              "    <tr>\n",
              "      <th>6398</th>\n",
              "      <td>1598</td>\n",
              "      <td>632</td>\n",
              "      <td>443</td>\n",
              "      <td>444</td>\n",
              "      <td>405</td>\n",
              "      <td>471</td>\n",
              "      <td>309</td>\n",
              "      <td>430</td>\n",
              "      <td>Mixture</td>\n",
              "      <td>1598_Mixture</td>\n",
              "    </tr>\n",
              "    <tr>\n",
              "      <th>6399</th>\n",
              "      <td>1599</td>\n",
              "      <td>633</td>\n",
              "      <td>442</td>\n",
              "      <td>442</td>\n",
              "      <td>402</td>\n",
              "      <td>468</td>\n",
              "      <td>306</td>\n",
              "      <td>434</td>\n",
              "      <td>Mixture</td>\n",
              "      <td>1599_Mixture</td>\n",
              "    </tr>\n",
              "  </tbody>\n",
              "</table>\n",
              "<p>6400 rows × 10 columns</p>\n",
              "</div>\n",
              "    <div class=\"colab-df-buttons\">\n",
              "\n",
              "  <div class=\"colab-df-container\">\n",
              "    <button class=\"colab-df-convert\" onclick=\"convertToInteractive('df-0bce3d80-082a-483a-9cf1-548757c85143')\"\n",
              "            title=\"Convert this dataframe to an interactive table.\"\n",
              "            style=\"display:none;\">\n",
              "\n",
              "  <svg xmlns=\"http://www.w3.org/2000/svg\" height=\"24px\" viewBox=\"0 -960 960 960\">\n",
              "    <path d=\"M120-120v-720h720v720H120Zm60-500h600v-160H180v160Zm220 220h160v-160H400v160Zm0 220h160v-160H400v160ZM180-400h160v-160H180v160Zm440 0h160v-160H620v160ZM180-180h160v-160H180v160Zm440 0h160v-160H620v160Z\"/>\n",
              "  </svg>\n",
              "    </button>\n",
              "\n",
              "  <style>\n",
              "    .colab-df-container {\n",
              "      display:flex;\n",
              "      gap: 12px;\n",
              "    }\n",
              "\n",
              "    .colab-df-convert {\n",
              "      background-color: #E8F0FE;\n",
              "      border: none;\n",
              "      border-radius: 50%;\n",
              "      cursor: pointer;\n",
              "      display: none;\n",
              "      fill: #1967D2;\n",
              "      height: 32px;\n",
              "      padding: 0 0 0 0;\n",
              "      width: 32px;\n",
              "    }\n",
              "\n",
              "    .colab-df-convert:hover {\n",
              "      background-color: #E2EBFA;\n",
              "      box-shadow: 0px 1px 2px rgba(60, 64, 67, 0.3), 0px 1px 3px 1px rgba(60, 64, 67, 0.15);\n",
              "      fill: #174EA6;\n",
              "    }\n",
              "\n",
              "    .colab-df-buttons div {\n",
              "      margin-bottom: 4px;\n",
              "    }\n",
              "\n",
              "    [theme=dark] .colab-df-convert {\n",
              "      background-color: #3B4455;\n",
              "      fill: #D2E3FC;\n",
              "    }\n",
              "\n",
              "    [theme=dark] .colab-df-convert:hover {\n",
              "      background-color: #434B5C;\n",
              "      box-shadow: 0px 1px 3px 1px rgba(0, 0, 0, 0.15);\n",
              "      filter: drop-shadow(0px 1px 2px rgba(0, 0, 0, 0.3));\n",
              "      fill: #FFFFFF;\n",
              "    }\n",
              "  </style>\n",
              "\n",
              "    <script>\n",
              "      const buttonEl =\n",
              "        document.querySelector('#df-0bce3d80-082a-483a-9cf1-548757c85143 button.colab-df-convert');\n",
              "      buttonEl.style.display =\n",
              "        google.colab.kernel.accessAllowed ? 'block' : 'none';\n",
              "\n",
              "      async function convertToInteractive(key) {\n",
              "        const element = document.querySelector('#df-0bce3d80-082a-483a-9cf1-548757c85143');\n",
              "        const dataTable =\n",
              "          await google.colab.kernel.invokeFunction('convertToInteractive',\n",
              "                                                    [key], {});\n",
              "        if (!dataTable) return;\n",
              "\n",
              "        const docLinkHtml = 'Like what you see? Visit the ' +\n",
              "          '<a target=\"_blank\" href=https://colab.research.google.com/notebooks/data_table.ipynb>data table notebook</a>'\n",
              "          + ' to learn more about interactive tables.';\n",
              "        element.innerHTML = '';\n",
              "        dataTable['output_type'] = 'display_data';\n",
              "        await google.colab.output.renderOutput(dataTable, element);\n",
              "        const docLink = document.createElement('div');\n",
              "        docLink.innerHTML = docLinkHtml;\n",
              "        element.appendChild(docLink);\n",
              "      }\n",
              "    </script>\n",
              "  </div>\n",
              "\n",
              "\n",
              "<div id=\"df-2e0713d2-8326-4d24-852b-ace9fe71010f\">\n",
              "  <button class=\"colab-df-quickchart\" onclick=\"quickchart('df-2e0713d2-8326-4d24-852b-ace9fe71010f')\"\n",
              "            title=\"Suggest charts\"\n",
              "            style=\"display:none;\">\n",
              "\n",
              "<svg xmlns=\"http://www.w3.org/2000/svg\" height=\"24px\"viewBox=\"0 0 24 24\"\n",
              "     width=\"24px\">\n",
              "    <g>\n",
              "        <path d=\"M19 3H5c-1.1 0-2 .9-2 2v14c0 1.1.9 2 2 2h14c1.1 0 2-.9 2-2V5c0-1.1-.9-2-2-2zM9 17H7v-7h2v7zm4 0h-2V7h2v10zm4 0h-2v-4h2v4z\"/>\n",
              "    </g>\n",
              "</svg>\n",
              "  </button>\n",
              "\n",
              "<style>\n",
              "  .colab-df-quickchart {\n",
              "      --bg-color: #E8F0FE;\n",
              "      --fill-color: #1967D2;\n",
              "      --hover-bg-color: #E2EBFA;\n",
              "      --hover-fill-color: #174EA6;\n",
              "      --disabled-fill-color: #AAA;\n",
              "      --disabled-bg-color: #DDD;\n",
              "  }\n",
              "\n",
              "  [theme=dark] .colab-df-quickchart {\n",
              "      --bg-color: #3B4455;\n",
              "      --fill-color: #D2E3FC;\n",
              "      --hover-bg-color: #434B5C;\n",
              "      --hover-fill-color: #FFFFFF;\n",
              "      --disabled-bg-color: #3B4455;\n",
              "      --disabled-fill-color: #666;\n",
              "  }\n",
              "\n",
              "  .colab-df-quickchart {\n",
              "    background-color: var(--bg-color);\n",
              "    border: none;\n",
              "    border-radius: 50%;\n",
              "    cursor: pointer;\n",
              "    display: none;\n",
              "    fill: var(--fill-color);\n",
              "    height: 32px;\n",
              "    padding: 0;\n",
              "    width: 32px;\n",
              "  }\n",
              "\n",
              "  .colab-df-quickchart:hover {\n",
              "    background-color: var(--hover-bg-color);\n",
              "    box-shadow: 0 1px 2px rgba(60, 64, 67, 0.3), 0 1px 3px 1px rgba(60, 64, 67, 0.15);\n",
              "    fill: var(--button-hover-fill-color);\n",
              "  }\n",
              "\n",
              "  .colab-df-quickchart-complete:disabled,\n",
              "  .colab-df-quickchart-complete:disabled:hover {\n",
              "    background-color: var(--disabled-bg-color);\n",
              "    fill: var(--disabled-fill-color);\n",
              "    box-shadow: none;\n",
              "  }\n",
              "\n",
              "  .colab-df-spinner {\n",
              "    border: 2px solid var(--fill-color);\n",
              "    border-color: transparent;\n",
              "    border-bottom-color: var(--fill-color);\n",
              "    animation:\n",
              "      spin 1s steps(1) infinite;\n",
              "  }\n",
              "\n",
              "  @keyframes spin {\n",
              "    0% {\n",
              "      border-color: transparent;\n",
              "      border-bottom-color: var(--fill-color);\n",
              "      border-left-color: var(--fill-color);\n",
              "    }\n",
              "    20% {\n",
              "      border-color: transparent;\n",
              "      border-left-color: var(--fill-color);\n",
              "      border-top-color: var(--fill-color);\n",
              "    }\n",
              "    30% {\n",
              "      border-color: transparent;\n",
              "      border-left-color: var(--fill-color);\n",
              "      border-top-color: var(--fill-color);\n",
              "      border-right-color: var(--fill-color);\n",
              "    }\n",
              "    40% {\n",
              "      border-color: transparent;\n",
              "      border-right-color: var(--fill-color);\n",
              "      border-top-color: var(--fill-color);\n",
              "    }\n",
              "    60% {\n",
              "      border-color: transparent;\n",
              "      border-right-color: var(--fill-color);\n",
              "    }\n",
              "    80% {\n",
              "      border-color: transparent;\n",
              "      border-right-color: var(--fill-color);\n",
              "      border-bottom-color: var(--fill-color);\n",
              "    }\n",
              "    90% {\n",
              "      border-color: transparent;\n",
              "      border-bottom-color: var(--fill-color);\n",
              "    }\n",
              "  }\n",
              "</style>\n",
              "\n",
              "  <script>\n",
              "    async function quickchart(key) {\n",
              "      const quickchartButtonEl =\n",
              "        document.querySelector('#' + key + ' button');\n",
              "      quickchartButtonEl.disabled = true;  // To prevent multiple clicks.\n",
              "      quickchartButtonEl.classList.add('colab-df-spinner');\n",
              "      try {\n",
              "        const charts = await google.colab.kernel.invokeFunction(\n",
              "            'suggestCharts', [key], {});\n",
              "      } catch (error) {\n",
              "        console.error('Error during call to suggestCharts:', error);\n",
              "      }\n",
              "      quickchartButtonEl.classList.remove('colab-df-spinner');\n",
              "      quickchartButtonEl.classList.add('colab-df-quickchart-complete');\n",
              "    }\n",
              "    (() => {\n",
              "      let quickchartButtonEl =\n",
              "        document.querySelector('#df-2e0713d2-8326-4d24-852b-ace9fe71010f button');\n",
              "      quickchartButtonEl.style.display =\n",
              "        google.colab.kernel.accessAllowed ? 'block' : 'none';\n",
              "    })();\n",
              "  </script>\n",
              "</div>\n",
              "    </div>\n",
              "  </div>\n"
            ]
          },
          "metadata": {},
          "execution_count": 35
        }
      ]
    },
    {
      "cell_type": "code",
      "source": [
        "data.iloc[[1600]]"
      ],
      "metadata": {
        "colab": {
          "base_uri": "https://localhost:8080/",
          "height": 98
        },
        "id": "6kqOmI46MGfW",
        "outputId": "38042d8e-5ab9-48dd-bc0f-825a543e9b65"
      },
      "execution_count": null,
      "outputs": [
        {
          "output_type": "execute_result",
          "data": {
            "text/plain": [
              "      Serial Number  MQ2  MQ3  MQ5  MQ6  MQ7  MQ8  MQ135      Gas  \\\n",
              "1600              0  592  517  370  341  632  419    389  Perfume   \n",
              "\n",
              "     Corresponding Image Name  \n",
              "1600                0_Perfume  "
            ],
            "text/html": [
              "\n",
              "  <div id=\"df-aaceaf12-9be0-4ff0-adf6-b88c45c4504e\" class=\"colab-df-container\">\n",
              "    <div>\n",
              "<style scoped>\n",
              "    .dataframe tbody tr th:only-of-type {\n",
              "        vertical-align: middle;\n",
              "    }\n",
              "\n",
              "    .dataframe tbody tr th {\n",
              "        vertical-align: top;\n",
              "    }\n",
              "\n",
              "    .dataframe thead th {\n",
              "        text-align: right;\n",
              "    }\n",
              "</style>\n",
              "<table border=\"1\" class=\"dataframe\">\n",
              "  <thead>\n",
              "    <tr style=\"text-align: right;\">\n",
              "      <th></th>\n",
              "      <th>Serial Number</th>\n",
              "      <th>MQ2</th>\n",
              "      <th>MQ3</th>\n",
              "      <th>MQ5</th>\n",
              "      <th>MQ6</th>\n",
              "      <th>MQ7</th>\n",
              "      <th>MQ8</th>\n",
              "      <th>MQ135</th>\n",
              "      <th>Gas</th>\n",
              "      <th>Corresponding Image Name</th>\n",
              "    </tr>\n",
              "  </thead>\n",
              "  <tbody>\n",
              "    <tr>\n",
              "      <th>1600</th>\n",
              "      <td>0</td>\n",
              "      <td>592</td>\n",
              "      <td>517</td>\n",
              "      <td>370</td>\n",
              "      <td>341</td>\n",
              "      <td>632</td>\n",
              "      <td>419</td>\n",
              "      <td>389</td>\n",
              "      <td>Perfume</td>\n",
              "      <td>0_Perfume</td>\n",
              "    </tr>\n",
              "  </tbody>\n",
              "</table>\n",
              "</div>\n",
              "    <div class=\"colab-df-buttons\">\n",
              "\n",
              "  <div class=\"colab-df-container\">\n",
              "    <button class=\"colab-df-convert\" onclick=\"convertToInteractive('df-aaceaf12-9be0-4ff0-adf6-b88c45c4504e')\"\n",
              "            title=\"Convert this dataframe to an interactive table.\"\n",
              "            style=\"display:none;\">\n",
              "\n",
              "  <svg xmlns=\"http://www.w3.org/2000/svg\" height=\"24px\" viewBox=\"0 -960 960 960\">\n",
              "    <path d=\"M120-120v-720h720v720H120Zm60-500h600v-160H180v160Zm220 220h160v-160H400v160Zm0 220h160v-160H400v160ZM180-400h160v-160H180v160Zm440 0h160v-160H620v160ZM180-180h160v-160H180v160Zm440 0h160v-160H620v160Z\"/>\n",
              "  </svg>\n",
              "    </button>\n",
              "\n",
              "  <style>\n",
              "    .colab-df-container {\n",
              "      display:flex;\n",
              "      gap: 12px;\n",
              "    }\n",
              "\n",
              "    .colab-df-convert {\n",
              "      background-color: #E8F0FE;\n",
              "      border: none;\n",
              "      border-radius: 50%;\n",
              "      cursor: pointer;\n",
              "      display: none;\n",
              "      fill: #1967D2;\n",
              "      height: 32px;\n",
              "      padding: 0 0 0 0;\n",
              "      width: 32px;\n",
              "    }\n",
              "\n",
              "    .colab-df-convert:hover {\n",
              "      background-color: #E2EBFA;\n",
              "      box-shadow: 0px 1px 2px rgba(60, 64, 67, 0.3), 0px 1px 3px 1px rgba(60, 64, 67, 0.15);\n",
              "      fill: #174EA6;\n",
              "    }\n",
              "\n",
              "    .colab-df-buttons div {\n",
              "      margin-bottom: 4px;\n",
              "    }\n",
              "\n",
              "    [theme=dark] .colab-df-convert {\n",
              "      background-color: #3B4455;\n",
              "      fill: #D2E3FC;\n",
              "    }\n",
              "\n",
              "    [theme=dark] .colab-df-convert:hover {\n",
              "      background-color: #434B5C;\n",
              "      box-shadow: 0px 1px 3px 1px rgba(0, 0, 0, 0.15);\n",
              "      filter: drop-shadow(0px 1px 2px rgba(0, 0, 0, 0.3));\n",
              "      fill: #FFFFFF;\n",
              "    }\n",
              "  </style>\n",
              "\n",
              "    <script>\n",
              "      const buttonEl =\n",
              "        document.querySelector('#df-aaceaf12-9be0-4ff0-adf6-b88c45c4504e button.colab-df-convert');\n",
              "      buttonEl.style.display =\n",
              "        google.colab.kernel.accessAllowed ? 'block' : 'none';\n",
              "\n",
              "      async function convertToInteractive(key) {\n",
              "        const element = document.querySelector('#df-aaceaf12-9be0-4ff0-adf6-b88c45c4504e');\n",
              "        const dataTable =\n",
              "          await google.colab.kernel.invokeFunction('convertToInteractive',\n",
              "                                                    [key], {});\n",
              "        if (!dataTable) return;\n",
              "\n",
              "        const docLinkHtml = 'Like what you see? Visit the ' +\n",
              "          '<a target=\"_blank\" href=https://colab.research.google.com/notebooks/data_table.ipynb>data table notebook</a>'\n",
              "          + ' to learn more about interactive tables.';\n",
              "        element.innerHTML = '';\n",
              "        dataTable['output_type'] = 'display_data';\n",
              "        await google.colab.output.renderOutput(dataTable, element);\n",
              "        const docLink = document.createElement('div');\n",
              "        docLink.innerHTML = docLinkHtml;\n",
              "        element.appendChild(docLink);\n",
              "      }\n",
              "    </script>\n",
              "  </div>\n",
              "\n",
              "    </div>\n",
              "  </div>\n"
            ]
          },
          "metadata": {},
          "execution_count": 6
        }
      ]
    },
    {
      "cell_type": "code",
      "source": [
        "data.info()"
      ],
      "metadata": {
        "colab": {
          "base_uri": "https://localhost:8080/"
        },
        "id": "OwSsvRPBQtRz",
        "outputId": "9b57939f-c948-4c32-abe9-e5dc6389899c"
      },
      "execution_count": null,
      "outputs": [
        {
          "output_type": "stream",
          "name": "stdout",
          "text": [
            "<class 'pandas.core.frame.DataFrame'>\n",
            "RangeIndex: 6400 entries, 0 to 6399\n",
            "Data columns (total 10 columns):\n",
            " #   Column                    Non-Null Count  Dtype \n",
            "---  ------                    --------------  ----- \n",
            " 0   Serial Number             6400 non-null   int64 \n",
            " 1   MQ2                       6400 non-null   int64 \n",
            " 2   MQ3                       6400 non-null   int64 \n",
            " 3   MQ5                       6400 non-null   int64 \n",
            " 4   MQ6                       6400 non-null   int64 \n",
            " 5   MQ7                       6400 non-null   int64 \n",
            " 6   MQ8                       6400 non-null   int64 \n",
            " 7   MQ135                     6400 non-null   int64 \n",
            " 8   Gas                       6400 non-null   object\n",
            " 9   Corresponding Image Name  6400 non-null   object\n",
            "dtypes: int64(8), object(2)\n",
            "memory usage: 500.1+ KB\n"
          ]
        }
      ]
    },
    {
      "cell_type": "code",
      "source": [
        "data.Gas.unique()"
      ],
      "metadata": {
        "colab": {
          "base_uri": "https://localhost:8080/"
        },
        "id": "w4ISWFx5rPMj",
        "outputId": "e1aed70e-ba63-4c92-e70c-820381b28d0c"
      },
      "execution_count": null,
      "outputs": [
        {
          "output_type": "execute_result",
          "data": {
            "text/plain": [
              "array(['NoGas', 'Perfume', 'Smoke', 'Mixture'], dtype=object)"
            ]
          },
          "metadata": {},
          "execution_count": 8
        }
      ]
    },
    {
      "cell_type": "code",
      "source": [
        "data.Gas.value_counts()"
      ],
      "metadata": {
        "colab": {
          "base_uri": "https://localhost:8080/"
        },
        "id": "HQxFepQlrW7E",
        "outputId": "01d94082-8f9d-4394-d3cf-d5aa165d63f4"
      },
      "execution_count": null,
      "outputs": [
        {
          "output_type": "execute_result",
          "data": {
            "text/plain": [
              "NoGas      1600\n",
              "Perfume    1600\n",
              "Smoke      1600\n",
              "Mixture    1600\n",
              "Name: Gas, dtype: int64"
            ]
          },
          "metadata": {},
          "execution_count": 9
        }
      ]
    },
    {
      "cell_type": "code",
      "source": [
        "features = ['MQ2', 'MQ3', 'MQ5', 'MQ6', 'MQ7', 'MQ8', 'MQ135']\n",
        "\n",
        "X = data[features]\n",
        "y = data['Gas']\n",
        "\n",
        "from sklearn.model_selection import train_test_split\n",
        "X_train, X_test, y_train, y_test = train_test_split(X,y ,\n",
        "                                   random_state=104,\n",
        "                                   test_size=0.25,\n",
        "                                   shuffle=True)"
      ],
      "metadata": {
        "id": "dh2-KVB9Q7o7"
      },
      "execution_count": null,
      "outputs": []
    },
    {
      "cell_type": "markdown",
      "source": [
        "#Feature Scaling"
      ],
      "metadata": {
        "id": "ycwLJSrUsDEX"
      }
    },
    {
      "cell_type": "code",
      "source": [
        "from sklearn.preprocessing import RobustScaler\n",
        "scaler = RobustScaler()\n",
        "X_train = scaler.fit_transform(X_train)\n",
        "X_test = scaler.transform(X_test)"
      ],
      "metadata": {
        "id": "KiHEi1qhsChx"
      },
      "execution_count": null,
      "outputs": []
    },
    {
      "cell_type": "code",
      "source": [
        "!pip install scikit-learn"
      ],
      "metadata": {
        "colab": {
          "base_uri": "https://localhost:8080/"
        },
        "id": "2QfrObVJUinA",
        "outputId": "a92123d7-d436-4362-8d09-5c42b96158ad"
      },
      "execution_count": null,
      "outputs": [
        {
          "output_type": "stream",
          "name": "stdout",
          "text": [
            "Requirement already satisfied: scikit-learn in /usr/local/lib/python3.10/dist-packages (1.2.2)\n",
            "Requirement already satisfied: numpy>=1.17.3 in /usr/local/lib/python3.10/dist-packages (from scikit-learn) (1.23.5)\n",
            "Requirement already satisfied: scipy>=1.3.2 in /usr/local/lib/python3.10/dist-packages (from scikit-learn) (1.11.4)\n",
            "Requirement already satisfied: joblib>=1.1.1 in /usr/local/lib/python3.10/dist-packages (from scikit-learn) (1.3.2)\n",
            "Requirement already satisfied: threadpoolctl>=2.0.0 in /usr/local/lib/python3.10/dist-packages (from scikit-learn) (3.2.0)\n"
          ]
        }
      ]
    },
    {
      "cell_type": "markdown",
      "source": [
        "#Decision Tree"
      ],
      "metadata": {
        "id": "u3AIjU0-n5ul"
      }
    },
    {
      "cell_type": "code",
      "source": [
        "from sklearn import tree\n",
        "from sklearn.tree import DecisionTreeClassifier\n",
        "import matplotlib.pyplot as plt\n",
        "\n",
        "dtree = DecisionTreeClassifier()\n",
        "dtree = dtree.fit(X_train, y_train)\n",
        "\n",
        "tree.plot_tree(dtree, feature_names=features)"
      ],
      "metadata": {
        "colab": {
          "base_uri": "https://localhost:8080/",
          "height": 1000
        },
        "id": "5HuVmSbjUW6y",
        "outputId": "4b2cee35-2c60-4d0b-a191-b70ff56ac417"
      },
      "execution_count": null,
      "outputs": [
        {
          "output_type": "execute_result",
          "data": {
            "text/plain": [
              "[Text(0.403126033204232, 0.975, 'MQ3 <= 0.234\\ngini = 0.75\\nsamples = 4800\\nvalue = [1197, 1195, 1199, 1209]'),\n",
              " Text(0.15624409597581712, 0.925, 'MQ8 <= -0.193\\ngini = 0.5\\nsamples = 2406\\nvalue = [1197, 0, 0, 1209]'),\n",
              " Text(0.15019837521254487, 0.875, 'gini = 0.0\\nsamples = 1179\\nvalue = [1179, 0, 0, 0]'),\n",
              " Text(0.16228981673908938, 0.875, 'MQ5 <= 0.321\\ngini = 0.029\\nsamples = 1227\\nvalue = [18, 0, 0, 1209]'),\n",
              " Text(0.15624409597581712, 0.825, 'gini = 0.0\\nsamples = 1209\\nvalue = [0, 0, 0, 1209]'),\n",
              " Text(0.1683355375023616, 0.825, 'gini = 0.0\\nsamples = 18\\nvalue = [18, 0, 0, 0]'),\n",
              " Text(0.6500079704326469, 0.925, 'MQ7 <= 0.918\\ngini = 0.5\\nsamples = 2394\\nvalue = [0, 1195, 1199, 0]'),\n",
              " Text(0.3846560315511052, 0.875, 'MQ6 <= 0.09\\ngini = 0.481\\nsamples = 1971\\nvalue = [0, 1180, 791, 0]'),\n",
              " Text(0.18042697902890611, 0.825, 'MQ2 <= -0.738\\ngini = 0.347\\nsamples = 725\\nvalue = [0, 162, 563, 0]'),\n",
              " Text(0.17438125826563386, 0.775, 'gini = 0.0\\nsamples = 48\\nvalue = [0, 48, 0, 0]'),\n",
              " Text(0.18647269979217834, 0.775, 'MQ2 <= 0.277\\ngini = 0.28\\nsamples = 677\\nvalue = [0, 114, 563, 0]'),\n",
              " Text(0.10391082561874174, 0.725, 'MQ6 <= -0.057\\ngini = 0.176\\nsamples = 585\\nvalue = [0, 57, 528, 0]'),\n",
              " Text(0.048365766106177974, 0.675, 'MQ135 <= 0.063\\ngini = 0.06\\nsamples = 385\\nvalue = [0, 12, 373, 0]'),\n",
              " Text(0.042320045342905725, 0.625, 'MQ7 <= 0.155\\ngini = 0.154\\nsamples = 143\\nvalue = [0, 12, 131, 0]'),\n",
              " Text(0.030228603816361232, 0.575, 'MQ6 <= -0.09\\ngini = 0.325\\nsamples = 49\\nvalue = [0, 10, 39, 0]'),\n",
              " Text(0.024182883053088987, 0.525, 'MQ3 <= 0.577\\ngini = 0.258\\nsamples = 46\\nvalue = [0, 7, 39, 0]'),\n",
              " Text(0.01813716228981674, 0.475, 'MQ8 <= -0.124\\ngini = 0.403\\nsamples = 25\\nvalue = [0, 7, 18, 0]'),\n",
              " Text(0.012091441526544493, 0.425, 'MQ6 <= -0.139\\ngini = 0.1\\nsamples = 19\\nvalue = [0, 1, 18, 0]'),\n",
              " Text(0.006045720763272247, 0.375, 'gini = 0.0\\nsamples = 18\\nvalue = [0, 0, 18, 0]'),\n",
              " Text(0.01813716228981674, 0.375, 'gini = 0.0\\nsamples = 1\\nvalue = [0, 1, 0, 0]'),\n",
              " Text(0.024182883053088987, 0.425, 'gini = 0.0\\nsamples = 6\\nvalue = [0, 6, 0, 0]'),\n",
              " Text(0.030228603816361232, 0.475, 'gini = 0.0\\nsamples = 21\\nvalue = [0, 0, 21, 0]'),\n",
              " Text(0.03627432457963348, 0.525, 'gini = 0.0\\nsamples = 3\\nvalue = [0, 3, 0, 0]'),\n",
              " Text(0.054411486869450215, 0.575, 'MQ135 <= 0.038\\ngini = 0.042\\nsamples = 94\\nvalue = [0, 2, 92, 0]'),\n",
              " Text(0.048365766106177974, 0.525, 'gini = 0.0\\nsamples = 91\\nvalue = [0, 0, 91, 0]'),\n",
              " Text(0.060457207632722464, 0.525, 'MQ7 <= 0.381\\ngini = 0.444\\nsamples = 3\\nvalue = [0, 2, 1, 0]'),\n",
              " Text(0.054411486869450215, 0.475, 'gini = 0.0\\nsamples = 2\\nvalue = [0, 2, 0, 0]'),\n",
              " Text(0.06650292839599471, 0.475, 'gini = 0.0\\nsamples = 1\\nvalue = [0, 0, 1, 0]'),\n",
              " Text(0.054411486869450215, 0.625, 'gini = 0.0\\nsamples = 242\\nvalue = [0, 0, 242, 0]'),\n",
              " Text(0.15945588513130549, 0.675, 'MQ7 <= 0.424\\ngini = 0.349\\nsamples = 200\\nvalue = [0, 45, 155, 0]'),\n",
              " Text(0.1254487058378991, 0.625, 'MQ8 <= 0.053\\ngini = 0.487\\nsamples = 98\\nvalue = [0, 41, 57, 0]'),\n",
              " Text(0.09975439259399206, 0.575, 'MQ7 <= -0.306\\ngini = 0.444\\nsamples = 84\\nvalue = [0, 28, 56, 0]'),\n",
              " Text(0.08464009068581145, 0.525, 'MQ2 <= 0.259\\ngini = 0.42\\nsamples = 20\\nvalue = [0, 14, 6, 0]'),\n",
              " Text(0.07859436992253921, 0.475, 'MQ3 <= 0.625\\ngini = 0.48\\nsamples = 10\\nvalue = [0, 4, 6, 0]'),\n",
              " Text(0.07254864915926695, 0.425, 'gini = 0.0\\nsamples = 6\\nvalue = [0, 0, 6, 0]'),\n",
              " Text(0.08464009068581145, 0.425, 'gini = 0.0\\nsamples = 4\\nvalue = [0, 4, 0, 0]'),\n",
              " Text(0.09068581144908369, 0.475, 'gini = 0.0\\nsamples = 10\\nvalue = [0, 10, 0, 0]'),\n",
              " Text(0.11486869450217269, 0.525, 'MQ2 <= 0.139\\ngini = 0.342\\nsamples = 64\\nvalue = [0, 14, 50, 0]'),\n",
              " Text(0.10277725297562819, 0.475, 'MQ5 <= -0.098\\ngini = 0.397\\nsamples = 11\\nvalue = [0, 8, 3, 0]'),\n",
              " Text(0.09673153221235595, 0.425, 'gini = 0.0\\nsamples = 8\\nvalue = [0, 8, 0, 0]'),\n",
              " Text(0.10882297373890043, 0.425, 'gini = 0.0\\nsamples = 3\\nvalue = [0, 0, 3, 0]'),\n",
              " Text(0.12696013602871717, 0.475, 'MQ5 <= 0.046\\ngini = 0.201\\nsamples = 53\\nvalue = [0, 6, 47, 0]'),\n",
              " Text(0.12091441526544493, 0.425, 'MQ3 <= 0.569\\ngini = 0.145\\nsamples = 51\\nvalue = [0, 4, 47, 0]'),\n",
              " Text(0.11486869450217269, 0.375, 'gini = 0.0\\nsamples = 1\\nvalue = [0, 1, 0, 0]'),\n",
              " Text(0.12696013602871717, 0.375, 'MQ7 <= 0.108\\ngini = 0.113\\nsamples = 50\\nvalue = [0, 3, 47, 0]'),\n",
              " Text(0.12091441526544493, 0.325, 'gini = 0.0\\nsamples = 34\\nvalue = [0, 0, 34, 0]'),\n",
              " Text(0.13300585679198942, 0.325, 'MQ5 <= -0.066\\ngini = 0.305\\nsamples = 16\\nvalue = [0, 3, 13, 0]'),\n",
              " Text(0.12696013602871717, 0.275, 'MQ5 <= -0.098\\ngini = 0.375\\nsamples = 4\\nvalue = [0, 3, 1, 0]'),\n",
              " Text(0.12091441526544493, 0.225, 'MQ6 <= 0.008\\ngini = 0.5\\nsamples = 2\\nvalue = [0, 1, 1, 0]'),\n",
              " Text(0.11486869450217269, 0.175, 'gini = 0.0\\nsamples = 1\\nvalue = [0, 0, 1, 0]'),\n",
              " Text(0.12696013602871717, 0.175, 'gini = 0.0\\nsamples = 1\\nvalue = [0, 1, 0, 0]'),\n",
              " Text(0.13300585679198942, 0.225, 'gini = 0.0\\nsamples = 2\\nvalue = [0, 2, 0, 0]'),\n",
              " Text(0.13905157755526168, 0.275, 'gini = 0.0\\nsamples = 12\\nvalue = [0, 0, 12, 0]'),\n",
              " Text(0.13300585679198942, 0.425, 'gini = 0.0\\nsamples = 2\\nvalue = [0, 2, 0, 0]'),\n",
              " Text(0.15114301908180616, 0.575, 'MQ2 <= 0.169\\ngini = 0.133\\nsamples = 14\\nvalue = [0, 13, 1, 0]'),\n",
              " Text(0.1450972983185339, 0.525, 'MQ5 <= -0.052\\ngini = 0.5\\nsamples = 2\\nvalue = [0, 1, 1, 0]'),\n",
              " Text(0.13905157755526168, 0.475, 'gini = 0.0\\nsamples = 1\\nvalue = [0, 1, 0, 0]'),\n",
              " Text(0.15114301908180616, 0.475, 'gini = 0.0\\nsamples = 1\\nvalue = [0, 0, 1, 0]'),\n",
              " Text(0.15718873984507842, 0.525, 'gini = 0.0\\nsamples = 12\\nvalue = [0, 12, 0, 0]'),\n",
              " Text(0.1934630644247119, 0.625, 'MQ5 <= 0.111\\ngini = 0.075\\nsamples = 102\\nvalue = [0, 4, 98, 0]'),\n",
              " Text(0.17532590213489516, 0.575, 'MQ8 <= 0.135\\ngini = 0.023\\nsamples = 87\\nvalue = [0, 1, 86, 0]'),\n",
              " Text(0.1692801813716229, 0.525, 'gini = 0.0\\nsamples = 84\\nvalue = [0, 0, 84, 0]'),\n",
              " Text(0.18137162289816738, 0.525, 'MQ3 <= 0.544\\ngini = 0.444\\nsamples = 3\\nvalue = [0, 1, 2, 0]'),\n",
              " Text(0.17532590213489516, 0.475, 'gini = 0.0\\nsamples = 1\\nvalue = [0, 1, 0, 0]'),\n",
              " Text(0.18741734366143964, 0.475, 'gini = 0.0\\nsamples = 2\\nvalue = [0, 0, 2, 0]'),\n",
              " Text(0.21160022671452863, 0.575, 'MQ135 <= -0.046\\ngini = 0.32\\nsamples = 15\\nvalue = [0, 3, 12, 0]'),\n",
              " Text(0.20555450595125638, 0.525, 'MQ3 <= 0.536\\ngini = 0.375\\nsamples = 4\\nvalue = [0, 3, 1, 0]'),\n",
              " Text(0.19950878518798412, 0.475, 'gini = 0.0\\nsamples = 1\\nvalue = [0, 0, 1, 0]'),\n",
              " Text(0.21160022671452863, 0.475, 'gini = 0.0\\nsamples = 3\\nvalue = [0, 3, 0, 0]'),\n",
              " Text(0.21764594747780086, 0.525, 'gini = 0.0\\nsamples = 11\\nvalue = [0, 0, 11, 0]'),\n",
              " Text(0.269034573965615, 0.725, 'MQ135 <= 0.304\\ngini = 0.471\\nsamples = 92\\nvalue = [0, 57, 35, 0]'),\n",
              " Text(0.25392027205743434, 0.675, 'MQ7 <= -0.273\\ngini = 0.299\\nsamples = 60\\nvalue = [0, 49, 11, 0]'),\n",
              " Text(0.24182883053088985, 0.625, 'MQ7 <= -0.635\\ngini = 0.142\\nsamples = 52\\nvalue = [0, 48, 4, 0]'),\n",
              " Text(0.2357831097676176, 0.575, 'MQ6 <= -0.254\\ngini = 0.32\\nsamples = 5\\nvalue = [0, 1, 4, 0]'),\n",
              " Text(0.22973738900434537, 0.525, 'gini = 0.0\\nsamples = 1\\nvalue = [0, 1, 0, 0]'),\n",
              " Text(0.24182883053088985, 0.525, 'gini = 0.0\\nsamples = 4\\nvalue = [0, 0, 4, 0]'),\n",
              " Text(0.2478745512941621, 0.575, 'gini = 0.0\\nsamples = 47\\nvalue = [0, 47, 0, 0]'),\n",
              " Text(0.26601171358397885, 0.625, 'MQ7 <= -0.104\\ngini = 0.219\\nsamples = 8\\nvalue = [0, 1, 7, 0]'),\n",
              " Text(0.2599659928207066, 0.575, 'gini = 0.0\\nsamples = 7\\nvalue = [0, 0, 7, 0]'),\n",
              " Text(0.2720574343472511, 0.575, 'gini = 0.0\\nsamples = 1\\nvalue = [0, 1, 0, 0]'),\n",
              " Text(0.28414887587379556, 0.675, 'MQ8 <= -0.036\\ngini = 0.375\\nsamples = 32\\nvalue = [0, 8, 24, 0]'),\n",
              " Text(0.27810315511052336, 0.625, 'gini = 0.0\\nsamples = 24\\nvalue = [0, 0, 24, 0]'),\n",
              " Text(0.2901945966370678, 0.625, 'gini = 0.0\\nsamples = 8\\nvalue = [0, 8, 0, 0]'),\n",
              " Text(0.5888850840733043, 0.825, 'MQ7 <= 0.729\\ngini = 0.299\\nsamples = 1246\\nvalue = [0, 1018, 228, 0]'),\n",
              " Text(0.4815676365010391, 0.775, 'MQ135 <= 0.979\\ngini = 0.186\\nsamples = 976\\nvalue = [0, 875, 101, 0]'),\n",
              " Text(0.4014500283393161, 0.725, 'MQ135 <= 0.046\\ngini = 0.116\\nsamples = 918\\nvalue = [0, 861, 57, 0]'),\n",
              " Text(0.32344606083506516, 0.675, 'MQ6 <= 0.123\\ngini = 0.477\\nsamples = 56\\nvalue = [0, 34, 22, 0]'),\n",
              " Text(0.3022860381636123, 0.625, 'MQ2 <= -0.09\\ngini = 0.413\\nsamples = 24\\nvalue = [0, 7, 17, 0]'),\n",
              " Text(0.29624031740034007, 0.575, 'gini = 0.0\\nsamples = 6\\nvalue = [0, 6, 0, 0]'),\n",
              " Text(0.3083317589268846, 0.575, 'MQ5 <= 0.026\\ngini = 0.105\\nsamples = 18\\nvalue = [0, 1, 17, 0]'),\n",
              " Text(0.3022860381636123, 0.525, 'gini = 0.0\\nsamples = 1\\nvalue = [0, 1, 0, 0]'),\n",
              " Text(0.31437747969015684, 0.525, 'gini = 0.0\\nsamples = 17\\nvalue = [0, 0, 17, 0]'),\n",
              " Text(0.34460608350651806, 0.625, 'MQ8 <= 0.03\\ngini = 0.264\\nsamples = 32\\nvalue = [0, 27, 5, 0]'),\n",
              " Text(0.33251464197997355, 0.575, 'MQ8 <= -0.056\\ngini = 0.5\\nsamples = 6\\nvalue = [0, 3, 3, 0]'),\n",
              " Text(0.3264689212167013, 0.525, 'gini = 0.0\\nsamples = 3\\nvalue = [0, 3, 0, 0]'),\n",
              " Text(0.3385603627432458, 0.525, 'gini = 0.0\\nsamples = 3\\nvalue = [0, 0, 3, 0]'),\n",
              " Text(0.3566975250330625, 0.575, 'MQ3 <= 0.544\\ngini = 0.142\\nsamples = 26\\nvalue = [0, 24, 2, 0]'),\n",
              " Text(0.3506518042697903, 0.525, 'MQ2 <= -0.166\\ngini = 0.5\\nsamples = 4\\nvalue = [0, 2, 2, 0]'),\n",
              " Text(0.34460608350651806, 0.475, 'gini = 0.0\\nsamples = 2\\nvalue = [0, 2, 0, 0]'),\n",
              " Text(0.3566975250330625, 0.475, 'gini = 0.0\\nsamples = 2\\nvalue = [0, 0, 2, 0]'),\n",
              " Text(0.36274324579633477, 0.525, 'gini = 0.0\\nsamples = 22\\nvalue = [0, 22, 0, 0]'),\n",
              " Text(0.47945399584356696, 0.675, 'MQ2 <= 0.608\\ngini = 0.078\\nsamples = 862\\nvalue = [0, 827, 35, 0]'),\n",
              " Text(0.4425656527489137, 0.625, 'MQ3 <= 0.544\\ngini = 0.072\\nsamples = 858\\nvalue = [0, 826, 32, 0]'),\n",
              " Text(0.3869261288494238, 0.575, 'MQ5 <= 0.4\\ngini = 0.305\\nsamples = 48\\nvalue = [0, 39, 9, 0]'),\n",
              " Text(0.3748346873228793, 0.525, 'MQ8 <= -0.018\\ngini = 0.051\\nsamples = 38\\nvalue = [0, 37, 1, 0]'),\n",
              " Text(0.368788966559607, 0.475, 'gini = 0.0\\nsamples = 1\\nvalue = [0, 0, 1, 0]'),\n",
              " Text(0.38088040808615153, 0.475, 'gini = 0.0\\nsamples = 37\\nvalue = [0, 37, 0, 0]'),\n",
              " Text(0.39901757037596824, 0.525, 'MQ7 <= 0.706\\ngini = 0.32\\nsamples = 10\\nvalue = [0, 2, 8, 0]'),\n",
              " Text(0.392971849612696, 0.475, 'MQ135 <= 0.771\\ngini = 0.198\\nsamples = 9\\nvalue = [0, 1, 8, 0]'),\n",
              " Text(0.3869261288494238, 0.425, 'gini = 0.0\\nsamples = 6\\nvalue = [0, 0, 6, 0]'),\n",
              " Text(0.39901757037596824, 0.425, 'MQ8 <= 0.556\\ngini = 0.444\\nsamples = 3\\nvalue = [0, 1, 2, 0]'),\n",
              " Text(0.392971849612696, 0.375, 'gini = 0.0\\nsamples = 1\\nvalue = [0, 1, 0, 0]'),\n",
              " Text(0.4050632911392405, 0.375, 'gini = 0.0\\nsamples = 2\\nvalue = [0, 0, 2, 0]'),\n",
              " Text(0.4050632911392405, 0.475, 'gini = 0.0\\nsamples = 1\\nvalue = [0, 1, 0, 0]'),\n",
              " Text(0.4982051766484035, 0.575, 'MQ2 <= -0.304\\ngini = 0.055\\nsamples = 810\\nvalue = [0, 787, 23, 0]'),\n",
              " Text(0.4921594558851313, 0.525, 'gini = 0.0\\nsamples = 1\\nvalue = [0, 0, 1, 0]'),\n",
              " Text(0.5042508974116758, 0.525, 'MQ8 <= -0.269\\ngini = 0.053\\nsamples = 809\\nvalue = [0, 787, 22, 0]'),\n",
              " Text(0.4982051766484035, 0.475, 'gini = 0.0\\nsamples = 1\\nvalue = [0, 0, 1, 0]'),\n",
              " Text(0.5102966181749481, 0.475, 'MQ6 <= 1.352\\ngini = 0.051\\nsamples = 808\\nvalue = [0, 787, 21, 0]'),\n",
              " Text(0.45834120536557715, 0.425, 'MQ8 <= 0.028\\ngini = 0.042\\nsamples = 789\\nvalue = [0, 772, 17, 0]'),\n",
              " Text(0.417154732665785, 0.375, 'MQ135 <= 0.412\\ngini = 0.239\\nsamples = 36\\nvalue = [0, 31, 5, 0]'),\n",
              " Text(0.4050632911392405, 0.325, 'MQ7 <= 0.461\\ngini = 0.124\\nsamples = 30\\nvalue = [0, 28, 2, 0]'),\n",
              " Text(0.39901757037596824, 0.275, 'MQ5 <= -0.007\\ngini = 0.067\\nsamples = 29\\nvalue = [0, 28, 1, 0]'),\n",
              " Text(0.392971849612696, 0.225, 'MQ7 <= -0.282\\ngini = 0.444\\nsamples = 3\\nvalue = [0, 2, 1, 0]'),\n",
              " Text(0.3869261288494238, 0.175, 'gini = 0.0\\nsamples = 2\\nvalue = [0, 2, 0, 0]'),\n",
              " Text(0.39901757037596824, 0.175, 'gini = 0.0\\nsamples = 1\\nvalue = [0, 0, 1, 0]'),\n",
              " Text(0.4050632911392405, 0.225, 'gini = 0.0\\nsamples = 26\\nvalue = [0, 26, 0, 0]'),\n",
              " Text(0.41110901190251276, 0.275, 'gini = 0.0\\nsamples = 1\\nvalue = [0, 0, 1, 0]'),\n",
              " Text(0.42924617419232947, 0.325, 'MQ135 <= 0.537\\ngini = 0.5\\nsamples = 6\\nvalue = [0, 3, 3, 0]'),\n",
              " Text(0.42320045342905727, 0.275, 'gini = 0.0\\nsamples = 3\\nvalue = [0, 0, 3, 0]'),\n",
              " Text(0.4352918949556017, 0.275, 'gini = 0.0\\nsamples = 3\\nvalue = [0, 3, 0, 0]'),\n",
              " Text(0.49952767806536935, 0.375, 'MQ8 <= 0.723\\ngini = 0.031\\nsamples = 753\\nvalue = [0, 741, 12, 0]'),\n",
              " Text(0.467031928962781, 0.325, 'MQ6 <= 0.107\\ngini = 0.022\\nsamples = 728\\nvalue = [0, 720, 8, 0]'),\n",
              " Text(0.44738333648214623, 0.275, 'MQ8 <= 0.129\\ngini = 0.375\\nsamples = 8\\nvalue = [0, 6, 2, 0]'),\n",
              " Text(0.441337615718874, 0.225, 'MQ2 <= 0.229\\ngini = 0.245\\nsamples = 7\\nvalue = [0, 6, 1, 0]'),\n",
              " Text(0.4352918949556017, 0.175, 'gini = 0.0\\nsamples = 6\\nvalue = [0, 6, 0, 0]'),\n",
              " Text(0.44738333648214623, 0.175, 'gini = 0.0\\nsamples = 1\\nvalue = [0, 0, 1, 0]'),\n",
              " Text(0.4534290572454185, 0.225, 'gini = 0.0\\nsamples = 1\\nvalue = [0, 0, 1, 0]'),\n",
              " Text(0.48668052144341584, 0.275, 'MQ3 <= 0.617\\ngini = 0.017\\nsamples = 720\\nvalue = [0, 714, 6, 0]'),\n",
              " Text(0.46552049877196294, 0.225, 'MQ7 <= 0.522\\ngini = 0.009\\nsamples = 646\\nvalue = [0, 643, 3, 0]'),\n",
              " Text(0.45947477800869074, 0.175, 'gini = 0.0\\nsamples = 483\\nvalue = [0, 483, 0, 0]'),\n",
              " Text(0.4715662195352352, 0.175, 'MQ7 <= 0.541\\ngini = 0.036\\nsamples = 163\\nvalue = [0, 160, 3, 0]'),\n",
              " Text(0.45947477800869074, 0.125, 'MQ3 <= 0.569\\ngini = 0.346\\nsamples = 9\\nvalue = [0, 7, 2, 0]'),\n",
              " Text(0.4534290572454185, 0.075, 'gini = 0.0\\nsamples = 1\\nvalue = [0, 0, 1, 0]'),\n",
              " Text(0.46552049877196294, 0.075, 'MQ8 <= 0.635\\ngini = 0.219\\nsamples = 8\\nvalue = [0, 7, 1, 0]'),\n",
              " Text(0.45947477800869074, 0.025, 'gini = 0.0\\nsamples = 7\\nvalue = [0, 7, 0, 0]'),\n",
              " Text(0.4715662195352352, 0.025, 'gini = 0.0\\nsamples = 1\\nvalue = [0, 0, 1, 0]'),\n",
              " Text(0.4836576610617797, 0.125, 'MQ5 <= 1.095\\ngini = 0.013\\nsamples = 154\\nvalue = [0, 153, 1, 0]'),\n",
              " Text(0.47761194029850745, 0.075, 'gini = 0.0\\nsamples = 133\\nvalue = [0, 133, 0, 0]'),\n",
              " Text(0.48970338182505196, 0.075, 'MQ6 <= 1.098\\ngini = 0.091\\nsamples = 21\\nvalue = [0, 20, 1, 0]'),\n",
              " Text(0.4836576610617797, 0.025, 'gini = 0.0\\nsamples = 1\\nvalue = [0, 0, 1, 0]'),\n",
              " Text(0.4957491025883242, 0.025, 'gini = 0.0\\nsamples = 20\\nvalue = [0, 20, 0, 0]'),\n",
              " Text(0.5078405441148687, 0.225, 'MQ8 <= 0.157\\ngini = 0.078\\nsamples = 74\\nvalue = [0, 71, 3, 0]'),\n",
              " Text(0.5017948233515964, 0.175, 'MQ6 <= 0.393\\ngini = 0.236\\nsamples = 22\\nvalue = [0, 19, 3, 0]'),\n",
              " Text(0.4957491025883242, 0.125, 'gini = 0.0\\nsamples = 17\\nvalue = [0, 17, 0, 0]'),\n",
              " Text(0.5078405441148687, 0.125, 'MQ8 <= 0.061\\ngini = 0.48\\nsamples = 5\\nvalue = [0, 2, 3, 0]'),\n",
              " Text(0.5017948233515964, 0.075, 'gini = 0.0\\nsamples = 2\\nvalue = [0, 2, 0, 0]'),\n",
              " Text(0.5138862648781409, 0.075, 'gini = 0.0\\nsamples = 3\\nvalue = [0, 0, 3, 0]'),\n",
              " Text(0.5138862648781409, 0.175, 'gini = 0.0\\nsamples = 52\\nvalue = [0, 52, 0, 0]'),\n",
              " Text(0.5320234271679577, 0.325, 'MQ2 <= 0.47\\ngini = 0.269\\nsamples = 25\\nvalue = [0, 21, 4, 0]'),\n",
              " Text(0.5259777064046854, 0.275, 'MQ3 <= 0.589\\ngini = 0.444\\nsamples = 6\\nvalue = [0, 2, 4, 0]'),\n",
              " Text(0.5199319856414132, 0.225, 'gini = 0.0\\nsamples = 2\\nvalue = [0, 2, 0, 0]'),\n",
              " Text(0.5320234271679577, 0.225, 'gini = 0.0\\nsamples = 4\\nvalue = [0, 0, 4, 0]'),\n",
              " Text(0.53806914793123, 0.275, 'gini = 0.0\\nsamples = 19\\nvalue = [0, 19, 0, 0]'),\n",
              " Text(0.5622520309843189, 0.425, 'MQ135 <= 0.608\\ngini = 0.332\\nsamples = 19\\nvalue = [0, 15, 4, 0]'),\n",
              " Text(0.5501605894577745, 0.375, 'MQ2 <= 0.587\\ngini = 0.444\\nsamples = 3\\nvalue = [0, 1, 2, 0]'),\n",
              " Text(0.5441148686945022, 0.325, 'gini = 0.0\\nsamples = 2\\nvalue = [0, 0, 2, 0]'),\n",
              " Text(0.5562063102210467, 0.325, 'gini = 0.0\\nsamples = 1\\nvalue = [0, 1, 0, 0]'),\n",
              " Text(0.5743434725108634, 0.375, 'MQ135 <= 0.833\\ngini = 0.219\\nsamples = 16\\nvalue = [0, 14, 2, 0]'),\n",
              " Text(0.5682977517475911, 0.325, 'MQ7 <= 0.682\\ngini = 0.124\\nsamples = 15\\nvalue = [0, 14, 1, 0]'),\n",
              " Text(0.5622520309843189, 0.275, 'gini = 0.0\\nsamples = 12\\nvalue = [0, 12, 0, 0]'),\n",
              " Text(0.5743434725108634, 0.275, 'MQ8 <= 0.736\\ngini = 0.444\\nsamples = 3\\nvalue = [0, 2, 1, 0]'),\n",
              " Text(0.5682977517475911, 0.225, 'gini = 0.0\\nsamples = 1\\nvalue = [0, 0, 1, 0]'),\n",
              " Text(0.5803891932741356, 0.225, 'gini = 0.0\\nsamples = 2\\nvalue = [0, 2, 0, 0]'),\n",
              " Text(0.5803891932741356, 0.325, 'gini = 0.0\\nsamples = 1\\nvalue = [0, 0, 1, 0]'),\n",
              " Text(0.5163423389382202, 0.625, 'MQ3 <= 0.593\\ngini = 0.375\\nsamples = 4\\nvalue = [0, 1, 3, 0]'),\n",
              " Text(0.5102966181749481, 0.575, 'gini = 0.0\\nsamples = 1\\nvalue = [0, 1, 0, 0]'),\n",
              " Text(0.5223880597014925, 0.575, 'gini = 0.0\\nsamples = 3\\nvalue = [0, 0, 3, 0]'),\n",
              " Text(0.5616852446627622, 0.725, 'MQ3 <= 0.56\\ngini = 0.366\\nsamples = 58\\nvalue = [0, 14, 44, 0]'),\n",
              " Text(0.5465709427545815, 0.675, 'MQ2 <= 0.614\\ngini = 0.473\\nsamples = 13\\nvalue = [0, 8, 5, 0]'),\n",
              " Text(0.5405252219913093, 0.625, 'MQ5 <= 1.259\\ngini = 0.32\\nsamples = 10\\nvalue = [0, 8, 2, 0]'),\n",
              " Text(0.534479501228037, 0.575, 'gini = 0.0\\nsamples = 5\\nvalue = [0, 5, 0, 0]'),\n",
              " Text(0.5465709427545815, 0.575, 'MQ7 <= 0.447\\ngini = 0.48\\nsamples = 5\\nvalue = [0, 3, 2, 0]'),\n",
              " Text(0.5405252219913093, 0.525, 'gini = 0.0\\nsamples = 2\\nvalue = [0, 0, 2, 0]'),\n",
              " Text(0.5526166635178538, 0.525, 'gini = 0.0\\nsamples = 3\\nvalue = [0, 3, 0, 0]'),\n",
              " Text(0.5526166635178538, 0.625, 'gini = 0.0\\nsamples = 3\\nvalue = [0, 0, 3, 0]'),\n",
              " Text(0.5767995465709428, 0.675, 'MQ135 <= 1.071\\ngini = 0.231\\nsamples = 45\\nvalue = [0, 6, 39, 0]'),\n",
              " Text(0.5647081050443983, 0.625, 'MQ8 <= 0.832\\ngini = 0.459\\nsamples = 14\\nvalue = [0, 5, 9, 0]'),\n",
              " Text(0.558662384281126, 0.575, 'gini = 0.0\\nsamples = 8\\nvalue = [0, 0, 8, 0]'),\n",
              " Text(0.5707538258076705, 0.575, 'MQ2 <= 0.614\\ngini = 0.278\\nsamples = 6\\nvalue = [0, 5, 1, 0]'),\n",
              " Text(0.5647081050443983, 0.525, 'gini = 0.0\\nsamples = 5\\nvalue = [0, 5, 0, 0]'),\n",
              " Text(0.5767995465709428, 0.525, 'gini = 0.0\\nsamples = 1\\nvalue = [0, 0, 1, 0]'),\n",
              " Text(0.5888909880974873, 0.625, 'MQ8 <= 0.997\\ngini = 0.062\\nsamples = 31\\nvalue = [0, 1, 30, 0]'),\n",
              " Text(0.582845267334215, 0.575, 'gini = 0.0\\nsamples = 30\\nvalue = [0, 0, 30, 0]'),\n",
              " Text(0.5949367088607594, 0.575, 'gini = 0.0\\nsamples = 1\\nvalue = [0, 1, 0, 0]'),\n",
              " Text(0.6962025316455697, 0.775, 'MQ5 <= 0.479\\ngini = 0.498\\nsamples = 270\\nvalue = [0, 143, 127, 0]'),\n",
              " Text(0.6402796145853014, 0.725, 'MQ3 <= 0.512\\ngini = 0.26\\nsamples = 52\\nvalue = [0, 44, 8, 0]'),\n",
              " Text(0.6191195919138485, 0.675, 'MQ7 <= 0.833\\ngini = 0.49\\nsamples = 7\\nvalue = [0, 3, 4, 0]'),\n",
              " Text(0.6130738711505762, 0.625, 'MQ7 <= 0.824\\ngini = 0.375\\nsamples = 4\\nvalue = [0, 3, 1, 0]'),\n",
              " Text(0.607028150387304, 0.575, 'gini = 0.0\\nsamples = 2\\nvalue = [0, 2, 0, 0]'),\n",
              " Text(0.6191195919138485, 0.575, 'MQ2 <= -0.117\\ngini = 0.5\\nsamples = 2\\nvalue = [0, 1, 1, 0]'),\n",
              " Text(0.6130738711505762, 0.525, 'gini = 0.0\\nsamples = 1\\nvalue = [0, 0, 1, 0]'),\n",
              " Text(0.6251653126771207, 0.525, 'gini = 0.0\\nsamples = 1\\nvalue = [0, 1, 0, 0]'),\n",
              " Text(0.6251653126771207, 0.625, 'gini = 0.0\\nsamples = 3\\nvalue = [0, 0, 3, 0]'),\n",
              " Text(0.6614396372567543, 0.675, 'MQ2 <= 0.166\\ngini = 0.162\\nsamples = 45\\nvalue = [0, 41, 4, 0]'),\n",
              " Text(0.6493481957302097, 0.625, 'MQ6 <= 0.131\\ngini = 0.049\\nsamples = 40\\nvalue = [0, 39, 1, 0]'),\n",
              " Text(0.6433024749669375, 0.575, 'MQ8 <= 0.183\\ngini = 0.5\\nsamples = 2\\nvalue = [0, 1, 1, 0]'),\n",
              " Text(0.6372567542036652, 0.525, 'gini = 0.0\\nsamples = 1\\nvalue = [0, 1, 0, 0]'),\n",
              " Text(0.6493481957302097, 0.525, 'gini = 0.0\\nsamples = 1\\nvalue = [0, 0, 1, 0]'),\n",
              " Text(0.655393916493482, 0.575, 'gini = 0.0\\nsamples = 38\\nvalue = [0, 38, 0, 0]'),\n",
              " Text(0.6735310787832987, 0.625, 'MQ135 <= 0.275\\ngini = 0.48\\nsamples = 5\\nvalue = [0, 2, 3, 0]'),\n",
              " Text(0.6674853580200264, 0.575, 'gini = 0.0\\nsamples = 3\\nvalue = [0, 0, 3, 0]'),\n",
              " Text(0.6795767995465709, 0.575, 'gini = 0.0\\nsamples = 2\\nvalue = [0, 2, 0, 0]'),\n",
              " Text(0.7521254487058379, 0.725, 'MQ2 <= 0.319\\ngini = 0.496\\nsamples = 218\\nvalue = [0, 99, 119, 0]'),\n",
              " Text(0.7037596825996599, 0.675, 'MQ7 <= 0.758\\ngini = 0.076\\nsamples = 76\\nvalue = [0, 3, 73, 0]'),\n",
              " Text(0.6977139618363877, 0.625, 'MQ6 <= 0.795\\ngini = 0.42\\nsamples = 10\\nvalue = [0, 3, 7, 0]'),\n",
              " Text(0.6916682410731154, 0.575, 'MQ6 <= 0.762\\ngini = 0.219\\nsamples = 8\\nvalue = [0, 1, 7, 0]'),\n",
              " Text(0.6856225203098432, 0.525, 'gini = 0.0\\nsamples = 1\\nvalue = [0, 1, 0, 0]'),\n",
              " Text(0.6977139618363877, 0.525, 'gini = 0.0\\nsamples = 7\\nvalue = [0, 0, 7, 0]'),\n",
              " Text(0.7037596825996599, 0.575, 'gini = 0.0\\nsamples = 2\\nvalue = [0, 2, 0, 0]'),\n",
              " Text(0.7098054033629322, 0.625, 'gini = 0.0\\nsamples = 66\\nvalue = [0, 0, 66, 0]'),\n",
              " Text(0.8004912148120159, 0.675, 'MQ2 <= 0.614\\ngini = 0.438\\nsamples = 142\\nvalue = [0, 96, 46, 0]'),\n",
              " Text(0.7702626109956546, 0.625, 'MQ6 <= 1.352\\ngini = 0.403\\nsamples = 132\\nvalue = [0, 95, 37, 0]'),\n",
              " Text(0.7339882864160212, 0.575, 'MQ7 <= 0.889\\ngini = 0.32\\nsamples = 90\\nvalue = [0, 72, 18, 0]'),\n",
              " Text(0.7098054033629322, 0.525, 'MQ8 <= 0.5\\ngini = 0.214\\nsamples = 74\\nvalue = [0, 65, 9, 0]'),\n",
              " Text(0.6916682410731154, 0.475, 'MQ6 <= 1.008\\ngini = 0.494\\nsamples = 9\\nvalue = [0, 4, 5, 0]'),\n",
              " Text(0.6856225203098432, 0.425, 'gini = 0.0\\nsamples = 4\\nvalue = [0, 0, 4, 0]'),\n",
              " Text(0.6977139618363877, 0.425, 'MQ8 <= 0.459\\ngini = 0.32\\nsamples = 5\\nvalue = [0, 4, 1, 0]'),\n",
              " Text(0.6916682410731154, 0.375, 'gini = 0.0\\nsamples = 4\\nvalue = [0, 4, 0, 0]'),\n",
              " Text(0.7037596825996599, 0.375, 'gini = 0.0\\nsamples = 1\\nvalue = [0, 0, 1, 0]'),\n",
              " Text(0.727942565652749, 0.475, 'MQ135 <= 0.637\\ngini = 0.116\\nsamples = 65\\nvalue = [0, 61, 4, 0]'),\n",
              " Text(0.7218968448894767, 0.425, 'MQ5 <= 1.069\\ngini = 0.089\\nsamples = 64\\nvalue = [0, 61, 3, 0]'),\n",
              " Text(0.7158511241262044, 0.375, 'gini = 0.0\\nsamples = 38\\nvalue = [0, 38, 0, 0]'),\n",
              " Text(0.727942565652749, 0.375, 'MQ3 <= 0.593\\ngini = 0.204\\nsamples = 26\\nvalue = [0, 23, 3, 0]'),\n",
              " Text(0.7218968448894767, 0.325, 'MQ7 <= 0.847\\ngini = 0.469\\nsamples = 8\\nvalue = [0, 5, 3, 0]'),\n",
              " Text(0.7158511241262044, 0.275, 'MQ6 <= 1.238\\ngini = 0.48\\nsamples = 5\\nvalue = [0, 2, 3, 0]'),\n",
              " Text(0.7098054033629322, 0.225, 'MQ7 <= 0.833\\ngini = 0.444\\nsamples = 3\\nvalue = [0, 2, 1, 0]'),\n",
              " Text(0.7037596825996599, 0.175, 'gini = 0.0\\nsamples = 2\\nvalue = [0, 2, 0, 0]'),\n",
              " Text(0.7158511241262044, 0.175, 'gini = 0.0\\nsamples = 1\\nvalue = [0, 0, 1, 0]'),\n",
              " Text(0.7218968448894767, 0.225, 'gini = 0.0\\nsamples = 2\\nvalue = [0, 0, 2, 0]'),\n",
              " Text(0.727942565652749, 0.275, 'gini = 0.0\\nsamples = 3\\nvalue = [0, 3, 0, 0]'),\n",
              " Text(0.7339882864160212, 0.325, 'gini = 0.0\\nsamples = 18\\nvalue = [0, 18, 0, 0]'),\n",
              " Text(0.7339882864160212, 0.425, 'gini = 0.0\\nsamples = 1\\nvalue = [0, 0, 1, 0]'),\n",
              " Text(0.7581711694691101, 0.525, 'MQ135 <= 0.342\\ngini = 0.492\\nsamples = 16\\nvalue = [0, 7, 9, 0]'),\n",
              " Text(0.7521254487058379, 0.475, 'gini = 0.0\\nsamples = 4\\nvalue = [0, 0, 4, 0]'),\n",
              " Text(0.7642168902323824, 0.475, 'MQ5 <= 1.154\\ngini = 0.486\\nsamples = 12\\nvalue = [0, 7, 5, 0]'),\n",
              " Text(0.7581711694691101, 0.425, 'MQ8 <= 0.604\\ngini = 0.346\\nsamples = 9\\nvalue = [0, 7, 2, 0]'),\n",
              " Text(0.7521254487058379, 0.375, 'MQ135 <= 0.396\\ngini = 0.444\\nsamples = 3\\nvalue = [0, 1, 2, 0]'),\n",
              " Text(0.7460797279425656, 0.325, 'gini = 0.0\\nsamples = 1\\nvalue = [0, 1, 0, 0]'),\n",
              " Text(0.7581711694691101, 0.325, 'gini = 0.0\\nsamples = 2\\nvalue = [0, 0, 2, 0]'),\n",
              " Text(0.7642168902323824, 0.375, 'gini = 0.0\\nsamples = 6\\nvalue = [0, 6, 0, 0]'),\n",
              " Text(0.7702626109956546, 0.425, 'gini = 0.0\\nsamples = 3\\nvalue = [0, 0, 3, 0]'),\n",
              " Text(0.8065369355752882, 0.575, 'MQ135 <= 0.55\\ngini = 0.495\\nsamples = 42\\nvalue = [0, 23, 19, 0]'),\n",
              " Text(0.7944454940487437, 0.525, 'MQ135 <= 0.483\\ngini = 0.346\\nsamples = 9\\nvalue = [0, 2, 7, 0]'),\n",
              " Text(0.7883997732854714, 0.475, 'MQ2 <= 0.482\\ngini = 0.444\\nsamples = 3\\nvalue = [0, 2, 1, 0]'),\n",
              " Text(0.7823540525221991, 0.425, 'gini = 0.0\\nsamples = 2\\nvalue = [0, 2, 0, 0]'),\n",
              " Text(0.7944454940487437, 0.425, 'gini = 0.0\\nsamples = 1\\nvalue = [0, 0, 1, 0]'),\n",
              " Text(0.8004912148120159, 0.475, 'gini = 0.0\\nsamples = 6\\nvalue = [0, 0, 6, 0]'),\n",
              " Text(0.8186283771018326, 0.525, 'MQ2 <= 0.542\\ngini = 0.463\\nsamples = 33\\nvalue = [0, 21, 12, 0]'),\n",
              " Text(0.8125826563385604, 0.475, 'gini = 0.0\\nsamples = 6\\nvalue = [0, 6, 0, 0]'),\n",
              " Text(0.8246740978651048, 0.475, 'MQ5 <= 1.344\\ngini = 0.494\\nsamples = 27\\nvalue = [0, 15, 12, 0]'),\n",
              " Text(0.8065369355752882, 0.425, 'MQ8 <= 0.69\\ngini = 0.469\\nsamples = 16\\nvalue = [0, 6, 10, 0]'),\n",
              " Text(0.8004912148120159, 0.375, 'gini = 0.0\\nsamples = 2\\nvalue = [0, 2, 0, 0]'),\n",
              " Text(0.8125826563385604, 0.375, 'MQ135 <= 0.629\\ngini = 0.408\\nsamples = 14\\nvalue = [0, 4, 10, 0]'),\n",
              " Text(0.8065369355752882, 0.325, 'gini = 0.0\\nsamples = 6\\nvalue = [0, 0, 6, 0]'),\n",
              " Text(0.8186283771018326, 0.325, 'MQ2 <= 0.602\\ngini = 0.5\\nsamples = 8\\nvalue = [0, 4, 4, 0]'),\n",
              " Text(0.8125826563385604, 0.275, 'MQ3 <= 0.589\\ngini = 0.444\\nsamples = 6\\nvalue = [0, 4, 2, 0]'),\n",
              " Text(0.8065369355752882, 0.225, 'MQ5 <= 1.285\\ngini = 0.444\\nsamples = 3\\nvalue = [0, 1, 2, 0]'),\n",
              " Text(0.8004912148120159, 0.175, 'gini = 0.0\\nsamples = 2\\nvalue = [0, 0, 2, 0]'),\n",
              " Text(0.8125826563385604, 0.175, 'gini = 0.0\\nsamples = 1\\nvalue = [0, 1, 0, 0]'),\n",
              " Text(0.8186283771018326, 0.225, 'gini = 0.0\\nsamples = 3\\nvalue = [0, 3, 0, 0]'),\n",
              " Text(0.8246740978651048, 0.275, 'gini = 0.0\\nsamples = 2\\nvalue = [0, 0, 2, 0]'),\n",
              " Text(0.8428112601549216, 0.425, 'MQ7 <= 0.856\\ngini = 0.298\\nsamples = 11\\nvalue = [0, 9, 2, 0]'),\n",
              " Text(0.8367655393916493, 0.375, 'MQ6 <= 1.484\\ngini = 0.444\\nsamples = 6\\nvalue = [0, 4, 2, 0]'),\n",
              " Text(0.8307198186283771, 0.325, 'gini = 0.0\\nsamples = 3\\nvalue = [0, 3, 0, 0]'),\n",
              " Text(0.8428112601549216, 0.325, 'MQ8 <= 0.904\\ngini = 0.444\\nsamples = 3\\nvalue = [0, 1, 2, 0]'),\n",
              " Text(0.8367655393916493, 0.275, 'gini = 0.0\\nsamples = 2\\nvalue = [0, 0, 2, 0]'),\n",
              " Text(0.8488569809181938, 0.275, 'gini = 0.0\\nsamples = 1\\nvalue = [0, 1, 0, 0]'),\n",
              " Text(0.8488569809181938, 0.375, 'gini = 0.0\\nsamples = 5\\nvalue = [0, 5, 0, 0]'),\n",
              " Text(0.8307198186283771, 0.625, 'MQ7 <= 0.871\\ngini = 0.18\\nsamples = 10\\nvalue = [0, 1, 9, 0]'),\n",
              " Text(0.8246740978651048, 0.575, 'gini = 0.0\\nsamples = 7\\nvalue = [0, 0, 7, 0]'),\n",
              " Text(0.8367655393916493, 0.575, 'MQ7 <= 0.88\\ngini = 0.444\\nsamples = 3\\nvalue = [0, 1, 2, 0]'),\n",
              " Text(0.8307198186283771, 0.525, 'gini = 0.0\\nsamples = 1\\nvalue = [0, 1, 0, 0]'),\n",
              " Text(0.8428112601549216, 0.525, 'gini = 0.0\\nsamples = 2\\nvalue = [0, 0, 2, 0]'),\n",
              " Text(0.9153599093141885, 0.875, 'MQ7 <= 0.946\\ngini = 0.068\\nsamples = 423\\nvalue = [0, 15, 408, 0]'),\n",
              " Text(0.876062724352919, 0.825, 'MQ3 <= 0.585\\ngini = 0.346\\nsamples = 45\\nvalue = [0, 10, 35, 0]'),\n",
              " Text(0.8609484224447383, 0.775, 'MQ3 <= 0.569\\ngini = 0.137\\nsamples = 27\\nvalue = [0, 2, 25, 0]'),\n",
              " Text(0.8549027016814661, 0.725, 'MQ2 <= 0.524\\ngini = 0.278\\nsamples = 12\\nvalue = [0, 2, 10, 0]'),\n",
              " Text(0.8488569809181938, 0.675, 'MQ3 <= 0.544\\ngini = 0.165\\nsamples = 11\\nvalue = [0, 1, 10, 0]'),\n",
              " Text(0.8428112601549216, 0.625, 'gini = 0.0\\nsamples = 6\\nvalue = [0, 0, 6, 0]'),\n",
              " Text(0.8549027016814661, 0.625, 'MQ5 <= 0.695\\ngini = 0.32\\nsamples = 5\\nvalue = [0, 1, 4, 0]'),\n",
              " Text(0.8488569809181938, 0.575, 'gini = 0.0\\nsamples = 1\\nvalue = [0, 1, 0, 0]'),\n",
              " Text(0.8609484224447383, 0.575, 'gini = 0.0\\nsamples = 4\\nvalue = [0, 0, 4, 0]'),\n",
              " Text(0.8609484224447383, 0.675, 'gini = 0.0\\nsamples = 1\\nvalue = [0, 1, 0, 0]'),\n",
              " Text(0.8669941432080106, 0.725, 'gini = 0.0\\nsamples = 15\\nvalue = [0, 0, 15, 0]'),\n",
              " Text(0.8911770262610995, 0.775, 'MQ6 <= 1.311\\ngini = 0.494\\nsamples = 18\\nvalue = [0, 8, 10, 0]'),\n",
              " Text(0.8790855847345551, 0.725, 'MQ8 <= 0.662\\ngini = 0.32\\nsamples = 5\\nvalue = [0, 4, 1, 0]'),\n",
              " Text(0.8730398639712829, 0.675, 'gini = 0.0\\nsamples = 1\\nvalue = [0, 0, 1, 0]'),\n",
              " Text(0.8851313054978274, 0.675, 'gini = 0.0\\nsamples = 4\\nvalue = [0, 4, 0, 0]'),\n",
              " Text(0.903268467787644, 0.725, 'MQ2 <= 0.566\\ngini = 0.426\\nsamples = 13\\nvalue = [0, 4, 9, 0]'),\n",
              " Text(0.8972227470243718, 0.675, 'gini = 0.0\\nsamples = 7\\nvalue = [0, 0, 7, 0]'),\n",
              " Text(0.9093141885509163, 0.675, 'MQ3 <= 0.609\\ngini = 0.444\\nsamples = 6\\nvalue = [0, 4, 2, 0]'),\n",
              " Text(0.903268467787644, 0.625, 'gini = 0.0\\nsamples = 4\\nvalue = [0, 4, 0, 0]'),\n",
              " Text(0.9153599093141885, 0.625, 'gini = 0.0\\nsamples = 2\\nvalue = [0, 0, 2, 0]'),\n",
              " Text(0.9546570942754582, 0.825, 'MQ3 <= 0.601\\ngini = 0.026\\nsamples = 378\\nvalue = [0, 5, 373, 0]'),\n",
              " Text(0.9334970716040053, 0.775, 'MQ8 <= 0.952\\ngini = 0.012\\nsamples = 330\\nvalue = [0, 2, 328, 0]'),\n",
              " Text(0.927451350840733, 0.725, 'gini = 0.0\\nsamples = 292\\nvalue = [0, 0, 292, 0]'),\n",
              " Text(0.9395427923672776, 0.725, 'MQ5 <= 1.115\\ngini = 0.1\\nsamples = 38\\nvalue = [0, 2, 36, 0]'),\n",
              " Text(0.9334970716040053, 0.675, 'MQ2 <= 0.349\\ngini = 0.444\\nsamples = 3\\nvalue = [0, 2, 1, 0]'),\n",
              " Text(0.927451350840733, 0.625, 'gini = 0.0\\nsamples = 1\\nvalue = [0, 0, 1, 0]'),\n",
              " Text(0.9395427923672776, 0.625, 'gini = 0.0\\nsamples = 2\\nvalue = [0, 2, 0, 0]'),\n",
              " Text(0.9455885131305498, 0.675, 'gini = 0.0\\nsamples = 35\\nvalue = [0, 0, 35, 0]'),\n",
              " Text(0.975817116946911, 0.775, 'MQ7 <= 0.984\\ngini = 0.117\\nsamples = 48\\nvalue = [0, 3, 45, 0]'),\n",
              " Text(0.9637256754203665, 0.725, 'MQ5 <= 1.298\\ngini = 0.48\\nsamples = 5\\nvalue = [0, 2, 3, 0]'),\n",
              " Text(0.9576799546570943, 0.675, 'gini = 0.0\\nsamples = 3\\nvalue = [0, 0, 3, 0]'),\n",
              " Text(0.9697713961836387, 0.675, 'gini = 0.0\\nsamples = 2\\nvalue = [0, 2, 0, 0]'),\n",
              " Text(0.9879085584734555, 0.725, 'MQ8 <= 0.825\\ngini = 0.045\\nsamples = 43\\nvalue = [0, 1, 42, 0]'),\n",
              " Text(0.9818628377101832, 0.675, 'MQ5 <= 1.449\\ngini = 0.219\\nsamples = 8\\nvalue = [0, 1, 7, 0]'),\n",
              " Text(0.975817116946911, 0.625, 'gini = 0.0\\nsamples = 7\\nvalue = [0, 0, 7, 0]'),\n",
              " Text(0.9879085584734555, 0.625, 'gini = 0.0\\nsamples = 1\\nvalue = [0, 1, 0, 0]'),\n",
              " Text(0.9939542792367277, 0.675, 'gini = 0.0\\nsamples = 35\\nvalue = [0, 0, 35, 0]')]"
            ]
          },
          "metadata": {},
          "execution_count": 13
        },
        {
          "output_type": "display_data",
          "data": {
            "text/plain": [
              "<Figure size 640x480 with 1 Axes>"
            ],
            "image/png": "[encoded data removed]"
          },
          "metadata": {}
        }
      ]
    },
    {
      "cell_type": "code",
      "source": [
        "y_pred_dt = dtree.predict(X_test)\n",
        "\n",
        "from sklearn.metrics import classification_report, confusion_matrix\n",
        "print(confusion_matrix(y_test, y_pred_dt))\n",
        "print(classification_report(y_test, y_pred_dt))"
      ],
      "metadata": {
        "colab": {
          "base_uri": "https://localhost:8080/"
        },
        "id": "BgCL6_J5nM3u",
        "outputId": "2ce34dd0-c727-405c-ec25-e1c51b5f5612"
      },
      "execution_count": null,
      "outputs": [
        {
          "output_type": "stream",
          "name": "stdout",
          "text": [
            "[[403   0   0   0]\n",
            " [  0 372  33   0]\n",
            " [  0  24 377   0]\n",
            " [  0   0   0 391]]\n",
            "              precision    recall  f1-score   support\n",
            "\n",
            "     Mixture       1.00      1.00      1.00       403\n",
            "       NoGas       0.94      0.92      0.93       405\n",
            "     Perfume       0.92      0.94      0.93       401\n",
            "       Smoke       1.00      1.00      1.00       391\n",
            "\n",
            "    accuracy                           0.96      1600\n",
            "   macro avg       0.96      0.96      0.96      1600\n",
            "weighted avg       0.96      0.96      0.96      1600\n",
            "\n"
          ]
        }
      ]
    },
    {
      "cell_type": "code",
      "source": [
        "from sklearn.metrics import accuracy_score\n",
        "\n",
        "print('Model accuracy score: {0:0.4f}'. format(accuracy_score(y_test, y_pred_dt)))"
      ],
      "metadata": {
        "colab": {
          "base_uri": "https://localhost:8080/"
        },
        "id": "wOOJ24ewwJ0e",
        "outputId": "781eb680-3be3-45e0-ac52-79dec17ed53e"
      },
      "execution_count": null,
      "outputs": [
        {
          "output_type": "stream",
          "name": "stdout",
          "text": [
            "Model accuracy score: 0.9644\n"
          ]
        }
      ]
    },
    {
      "cell_type": "markdown",
      "source": [
        "#Gaussian Naive Bayes"
      ],
      "metadata": {
        "id": "Md_XWrKEoDS_"
      }
    },
    {
      "cell_type": "code",
      "source": [
        "from sklearn.naive_bayes import GaussianNB\n",
        "\n",
        "gnb = GaussianNB()\n",
        "gnb.fit(X_train, y_train)\n",
        "\n",
        "y_pred_gnb = gnb.predict(X_test)\n",
        "\n",
        "from sklearn.metrics import accuracy_score\n",
        "\n",
        "print('Model accuracy score: {0:0.4f}'. format(accuracy_score(y_test, y_pred_gnb)))"
      ],
      "metadata": {
        "colab": {
          "base_uri": "https://localhost:8080/"
        },
        "id": "g0dCw3OouJBx",
        "outputId": "43f457a6-c581-4950-faf5-912f98a1187d"
      },
      "execution_count": null,
      "outputs": [
        {
          "output_type": "stream",
          "name": "stdout",
          "text": [
            "Model accuracy score: 0.8400\n"
          ]
        }
      ]
    },
    {
      "cell_type": "markdown",
      "source": [
        "Compare the train-set and test-set accuracy"
      ],
      "metadata": {
        "id": "PDPexa6iuxAm"
      }
    },
    {
      "cell_type": "code",
      "source": [
        "y_pred_train_gnb = gnb.predict(X_train)\n",
        "print('Training-set accuracy score: {0:0.4f}'. format(accuracy_score(y_train, y_pred_train_gnb)))"
      ],
      "metadata": {
        "colab": {
          "base_uri": "https://localhost:8080/"
        },
        "id": "7Y0Dh7JPux34",
        "outputId": "55b4718e-5d61-4e9f-95d6-c834e68c6a16"
      },
      "execution_count": null,
      "outputs": [
        {
          "output_type": "stream",
          "name": "stdout",
          "text": [
            "Training-set accuracy score: 0.8560\n"
          ]
        }
      ]
    },
    {
      "cell_type": "markdown",
      "source": [
        "Check for overfitting and underfitting"
      ],
      "metadata": {
        "id": "tHVX-jg7u4ND"
      }
    },
    {
      "cell_type": "code",
      "source": [
        "print('Training set accuracy score: {:.4f}'.format(accuracy_score(y_train, y_pred_train_gnb)))\n",
        "\n",
        "print('Test set accuracy score: {:.4f}'.format(accuracy_score(y_test, y_pred_gnb)))"
      ],
      "metadata": {
        "colab": {
          "base_uri": "https://localhost:8080/"
        },
        "id": "KEw7dElXu8CS",
        "outputId": "4b38ee76-1855-481c-aef5-6582c8adea21"
      },
      "execution_count": null,
      "outputs": [
        {
          "output_type": "stream",
          "name": "stdout",
          "text": [
            "Training set accuracy score: 0.8560\n",
            "Test set accuracy score: 0.8400\n"
          ]
        }
      ]
    },
    {
      "cell_type": "markdown",
      "source": [
        "These two values are quite comparable. So, there is no sign of overfitting."
      ],
      "metadata": {
        "id": "Kv9HSem6vkLf"
      }
    },
    {
      "cell_type": "code",
      "source": [
        "from sklearn.metrics import classification_report\n",
        "\n",
        "print(classification_report(y_test, y_pred_gnb))"
      ],
      "metadata": {
        "colab": {
          "base_uri": "https://localhost:8080/"
        },
        "id": "AOW8xAF1u792",
        "outputId": "c78d641c-794d-4c19-e865-0130519dffbb"
      },
      "execution_count": null,
      "outputs": [
        {
          "output_type": "stream",
          "name": "stdout",
          "text": [
            "              precision    recall  f1-score   support\n",
            "\n",
            "     Mixture       1.00      1.00      1.00       403\n",
            "       NoGas       0.65      0.80      0.72       405\n",
            "     Perfume       0.74      0.56      0.64       401\n",
            "       Smoke       1.00      1.00      1.00       391\n",
            "\n",
            "    accuracy                           0.84      1600\n",
            "   macro avg       0.85      0.84      0.84      1600\n",
            "weighted avg       0.85      0.84      0.84      1600\n",
            "\n"
          ]
        }
      ]
    },
    {
      "cell_type": "markdown",
      "source": [
        "#SVM"
      ],
      "metadata": {
        "id": "jZcVQKsRxE-l"
      }
    },
    {
      "cell_type": "code",
      "source": [
        "#SVM with Linear Kernel\n",
        "from sklearn.svm import SVC\n",
        "svm_clf = SVC(kernel='linear')\n",
        "\n",
        "svm_clf.fit(X_train, y_train)\n",
        "\n",
        "y_pred_svm = svm_clf.predict(X_test)\n",
        "\n",
        "from sklearn.metrics import accuracy_score\n",
        "\n",
        "print('Model accuracy score: {0:0.4f}'. format(accuracy_score(y_test, y_pred_svm)))"
      ],
      "metadata": {
        "colab": {
          "base_uri": "https://localhost:8080/"
        },
        "id": "gNgF-Mf6u75k",
        "outputId": "a2c4f2ff-689a-4c5c-e86a-6f38c5706a32"
      },
      "execution_count": null,
      "outputs": [
        {
          "output_type": "stream",
          "name": "stdout",
          "text": [
            "Model accuracy score: 0.8512\n"
          ]
        }
      ]
    },
    {
      "cell_type": "code",
      "source": [
        "#SVM with Polynomial Kernel\n",
        "\n",
        "p_svm_clf = SVC(kernel='poly')\n",
        "\n",
        "p_svm_clf.fit(X_train, y_train)\n",
        "\n",
        "y_pred_p_svm = p_svm_clf.predict(X_test)\n",
        "\n",
        "from sklearn.metrics import accuracy_score\n",
        "\n",
        "print('Model accuracy score: {0:0.4f}'. format(accuracy_score(y_test, y_pred_p_svm)))"
      ],
      "metadata": {
        "colab": {
          "base_uri": "https://localhost:8080/"
        },
        "id": "FjcC_Aubzhd7",
        "outputId": "288e1181-ac71-4afd-88c3-3ecf645e9b50"
      },
      "execution_count": null,
      "outputs": [
        {
          "output_type": "stream",
          "name": "stdout",
          "text": [
            "Model accuracy score: 0.9237\n"
          ]
        }
      ]
    },
    {
      "cell_type": "code",
      "source": [
        "#SVM with Gaussian RBF Kernel\n",
        "g_svm_clf = SVC(kernel='rbf')\n",
        "\n",
        "g_svm_clf.fit(X_train, y_train)\n",
        "\n",
        "y_pred_g_svm = g_svm_clf.predict(X_test)\n",
        "\n",
        "from sklearn.metrics import accuracy_score\n",
        "\n",
        "print('Model accuracy score: {0:0.4f}'. format(accuracy_score(y_test, y_pred_g_svm)))"
      ],
      "metadata": {
        "colab": {
          "base_uri": "https://localhost:8080/"
        },
        "id": "KFKk1e9Vz23F",
        "outputId": "4cd4631d-9240-411d-b1f0-7454ddbee85b"
      },
      "execution_count": null,
      "outputs": [
        {
          "output_type": "stream",
          "name": "stdout",
          "text": [
            "Model accuracy score: 0.9387\n"
          ]
        }
      ]
    },
    {
      "cell_type": "markdown",
      "source": [
        "#Imagec classification"
      ],
      "metadata": {
        "id": "uPMydXVzE3yx"
      }
    },
    {
      "cell_type": "code",
      "source": [
        "!pip install cv2"
      ],
      "metadata": {
        "colab": {
          "base_uri": "https://localhost:8080/"
        },
        "id": "PRn_ySJOFxSR",
        "outputId": "a103ab81-83cf-439a-bc71-ccdf857fdd3c"
      },
      "execution_count": null,
      "outputs": [
        {
          "output_type": "stream",
          "name": "stdout",
          "text": [
            "\u001b[31mERROR: Could not find a version that satisfies the requirement cv2 (from versions: none)\u001b[0m\u001b[31m\n",
            "\u001b[0m\u001b[31mERROR: No matching distribution found for cv2\u001b[0m\u001b[31m\n",
            "\u001b[0m"
          ]
        }
      ]
    },
    {
      "cell_type": "code",
      "source": [
        "import cv2\n",
        "import cv2 as cv\n",
        "from google.colab.patches import cv2_imshow\n",
        "from skimage import io\n",
        "from PIL import Image\n",
        "import matplotlib.pylab as plt\n",
        "from numpy import array\n",
        "from sys import getsizeof\n",
        "import numpy as np\n",
        "from skimage.transform import rescale, resize, downscale_local_mean"
      ],
      "metadata": {
        "id": "nmq1rRbZF2yb"
      },
      "execution_count": null,
      "outputs": []
    },
    {
      "cell_type": "code",
      "source": [
        "C = 14401"
      ],
      "metadata": {
        "id": "sVq18DsuTfoE"
      },
      "execution_count": null,
      "outputs": []
    },
    {
      "cell_type": "code",
      "source": [
        "img_data=np.zeros((6400 , C))"
      ],
      "metadata": {
        "id": "tK240A9MTYqy"
      },
      "execution_count": null,
      "outputs": []
    },
    {
      "cell_type": "code",
      "source": [
        "#NoGas = 0\n",
        "for i in range(0,1600):\n",
        "  path = '/content/drive/MyDrive/datasets/DM_P5/Thermal Camera Images/NoGas/'+str(i)+'_NoGas.png'\n",
        "  image = io.imread(path)\n",
        "  image_resized = resize(image, (image.shape[0] // 8, image.shape[1] // 8),\n",
        "                       anti_aliasing=True)\n",
        "\n",
        "  array1 = array(image_resized)\n",
        "  array2 = array1.flatten()\n",
        "  array2 = np.append(array2, 0)\n",
        "\n",
        "  img_data[i,:]= array2\n"
      ],
      "metadata": {
        "id": "Qn40RRBGQhdY"
      },
      "execution_count": null,
      "outputs": []
    },
    {
      "cell_type": "code",
      "source": [
        "len(array2)"
      ],
      "metadata": {
        "colab": {
          "base_uri": "https://localhost:8080/"
        },
        "id": "tuz92-IRSh9p",
        "outputId": "90b49e50-55fd-443d-bd7f-089f3e3ce18f"
      },
      "execution_count": null,
      "outputs": [
        {
          "output_type": "execute_result",
          "data": {
            "text/plain": [
              "14401"
            ]
          },
          "metadata": {},
          "execution_count": 21
        }
      ]
    },
    {
      "cell_type": "code",
      "source": [
        "#Perfume = 1\n",
        "for i in range(0,1600):\n",
        "  path = '/content/drive/MyDrive/datasets/DM_P5/Thermal Camera Images/Perfume/'+str(i)+'_Perfume.png'\n",
        "  image = io.imread(path)\n",
        "  image_resized = resize(image, (image.shape[0] // 8, image.shape[1] // 8),\n",
        "                       anti_aliasing=True)\n",
        "\n",
        "  array1 = array(image_resized)\n",
        "  array2 = array1.flatten()\n",
        "  array2 = np.append(array2, 1)\n",
        "\n",
        "  img_data[1600 + i,:]= array2\n"
      ],
      "metadata": {
        "id": "9dhzriWpQiJ5"
      },
      "execution_count": null,
      "outputs": []
    },
    {
      "cell_type": "code",
      "source": [
        "#Smoke   = 2\n",
        "for i in range(0,1600):\n",
        "  path = '/content/drive/MyDrive/datasets/DM_P5/Thermal Camera Images/Smoke/'+str(i)+'_Smoke.png'\n",
        "  image = io.imread(path)\n",
        "  image_resized = resize(image, (image.shape[0] // 8, image.shape[1] // 8),\n",
        "                       anti_aliasing=True)\n",
        "\n",
        "  array1 = array(image_resized)\n",
        "  array2 = array1.flatten()\n",
        "  array2 = np.append(array2, 2)\n",
        "\n",
        "\n",
        "  img_data[3200 + i,:]= array2\n",
        "\n",
        "img_data"
      ],
      "metadata": {
        "colab": {
          "base_uri": "https://localhost:8080/"
        },
        "id": "TyY62ZRuQiwt",
        "outputId": "d710fa3c-e3eb-41a7-814b-054069bc2971"
      },
      "execution_count": null,
      "outputs": [
        {
          "output_type": "execute_result",
          "data": {
            "text/plain": [
              "array([[9.87383382e-01, 9.90036605e-01, 9.78627021e-01, ...,\n",
              "        4.82075251e-01, 3.50155620e-01, 0.00000000e+00],\n",
              "       [9.87419222e-01, 9.90072986e-01, 9.78664715e-01, ...,\n",
              "        4.82800737e-01, 3.51138249e-01, 0.00000000e+00],\n",
              "       [9.87624145e-01, 9.90183323e-01, 9.78737210e-01, ...,\n",
              "        9.31637549e-04, 8.89083976e-03, 0.00000000e+00],\n",
              "       ...,\n",
              "       [0.00000000e+00, 0.00000000e+00, 0.00000000e+00, ...,\n",
              "        0.00000000e+00, 0.00000000e+00, 0.00000000e+00],\n",
              "       [0.00000000e+00, 0.00000000e+00, 0.00000000e+00, ...,\n",
              "        0.00000000e+00, 0.00000000e+00, 0.00000000e+00],\n",
              "       [0.00000000e+00, 0.00000000e+00, 0.00000000e+00, ...,\n",
              "        0.00000000e+00, 0.00000000e+00, 0.00000000e+00]])"
            ]
          },
          "metadata": {},
          "execution_count": 23
        }
      ]
    },
    {
      "cell_type": "code",
      "source": [
        "#Mixture = 3\n",
        "\n",
        "for i in range(0,1600):\n",
        "  path = '/content/drive/MyDrive/datasets/DM_P5/Thermal Camera Images/Mixture/'+str(i)+'_Mixture.png'\n",
        "  image = io.imread(path)\n",
        "  image_resized = resize(image, (image.shape[0] // 8, image.shape[1] // 8),\n",
        "                       anti_aliasing=True)\n",
        "\n",
        "  array1 = array(image_resized)\n",
        "  array2 = array1.flatten()\n",
        "  array2 = np.append(array2, 3)\n",
        "  img_data[4800 + i,:]= array2\n"
      ],
      "metadata": {
        "id": "j5QEWDdUE3Hv"
      },
      "execution_count": null,
      "outputs": []
    },
    {
      "cell_type": "code",
      "source": [
        "img_X = img_data[:, 0 : C-1]\n",
        "img_y = img_data[:, C-1]\n",
        "\n",
        "from sklearn.model_selection import train_test_split\n",
        "X_train_img, X_test_img, y_train_img, y_test_img = train_test_split(img_X,img_y ,\n",
        "                                   random_state=104,\n",
        "                                   test_size=0.25,\n",
        "                                   shuffle=True)"
      ],
      "metadata": {
        "id": "cWlYgiPq3C0D"
      },
      "execution_count": null,
      "outputs": []
    },
    {
      "cell_type": "code",
      "source": [
        "# convert from integers to floats\n",
        "X_train_img = X_train_img.astype('float32')\n",
        "X_test_img = X_test_img.astype('float32')\n",
        "# normalize to range 0-1\n",
        "X_train_img = X_train_img / 255.0\n",
        "X_test_img = X_test_img / 255.0"
      ],
      "metadata": {
        "id": "ek16YsCSB_Yq"
      },
      "execution_count": null,
      "outputs": []
    },
    {
      "cell_type": "markdown",
      "source": [
        "#Decision Tree"
      ],
      "metadata": {
        "id": "r15n7YCNCkyI"
      }
    },
    {
      "cell_type": "code",
      "source": [
        "from sklearn import tree\n",
        "from sklearn.tree import DecisionTreeClassifier\n",
        "import matplotlib.pyplot as plt\n",
        "\n",
        "img_dtree = DecisionTreeClassifier()\n",
        "img_dtree = img_dtree.fit(X_train_img, y_train_img)\n",
        "\n",
        "tree.plot_tree(img_dtree)"
      ],
      "metadata": {
        "colab": {
          "base_uri": "https://localhost:8080/",
          "height": 1000
        },
        "id": "e_iD94IICf5P",
        "outputId": "423de6b3-9c1e-4181-a691-00c2bd43ff3b"
      },
      "execution_count": null,
      "outputs": [
        {
          "output_type": "execute_result",
          "data": {
            "text/plain": [
              "[Text(0.37969144238856184, 0.9857142857142858, 'x[4] <= 0.002\\ngini = 0.75\\nsamples = 4800\\nvalue = [1195, 1199, 1209, 1197]'),\n",
              " Text(0.37296309924306137, 0.9571428571428572, 'gini = 0.0\\nsamples = 1197\\nvalue = [0, 0, 0, 1197]'),\n",
              " Text(0.38641978553406225, 0.9571428571428572, 'x[1428] <= 0.001\\ngini = 0.667\\nsamples = 3603\\nvalue = [1195, 1199, 1209, 0]'),\n",
              " Text(0.12699747687132043, 0.9285714285714286, 'x[4587] <= 0.001\\ngini = 0.329\\nsamples = 1295\\nvalue = [172, 79, 1044, 0]'),\n",
              " Text(0.045416316232127836, 0.9, 'x[14244] <= 0.003\\ngini = 0.071\\nsamples = 846\\nvalue = [13, 18, 815, 0]'),\n",
              " Text(0.03868797308662742, 0.8714285714285714, 'x[1241] <= 0.0\\ngini = 0.06\\nsamples = 841\\nvalue = [13, 13, 815, 0]'),\n",
              " Text(0.01345668629100084, 0.8428571428571429, 'x[1195] <= 0.002\\ngini = 0.611\\nsamples = 6\\nvalue = [2, 3, 1, 0]'),\n",
              " Text(0.00672834314550042, 0.8142857142857143, 'gini = 0.0\\nsamples = 3\\nvalue = [0, 3, 0, 0]'),\n",
              " Text(0.020185029436501262, 0.8142857142857143, 'x[11999] <= 0.0\\ngini = 0.444\\nsamples = 3\\nvalue = [2, 0, 1, 0]'),\n",
              " Text(0.01345668629100084, 0.7857142857142857, 'gini = 0.0\\nsamples = 2\\nvalue = [2, 0, 0, 0]'),\n",
              " Text(0.02691337258200168, 0.7857142857142857, 'gini = 0.0\\nsamples = 1\\nvalue = [0, 0, 1, 0]'),\n",
              " Text(0.063919259882254, 0.8428571428571429, 'x[180] <= 0.004\\ngini = 0.049\\nsamples = 835\\nvalue = [11, 10, 814, 0]'),\n",
              " Text(0.04709840201850295, 0.8142857142857143, 'x[5588] <= 0.0\\ngini = 0.49\\nsamples = 7\\nvalue = [4, 0, 3, 0]'),\n",
              " Text(0.040370058873002525, 0.7857142857142857, 'gini = 0.0\\nsamples = 3\\nvalue = [0, 0, 3, 0]'),\n",
              " Text(0.05382674516400336, 0.7857142857142857, 'gini = 0.0\\nsamples = 4\\nvalue = [4, 0, 0, 0]'),\n",
              " Text(0.08074011774600505, 0.8142857142857143, 'x[13844] <= 0.003\\ngini = 0.04\\nsamples = 828\\nvalue = [7, 10, 811, 0]'),\n",
              " Text(0.0672834314550042, 0.7857142857142857, 'x[12389] <= 0.0\\ngini = 0.034\\nsamples = 824\\nvalue = [7, 7, 810, 0]'),\n",
              " Text(0.060555088309503784, 0.7571428571428571, 'gini = 0.0\\nsamples = 2\\nvalue = [0, 2, 0, 0]'),\n",
              " Text(0.07401177460050462, 0.7571428571428571, 'x[1764] <= 0.0\\ngini = 0.029\\nsamples = 822\\nvalue = [7, 5, 810, 0]'),\n",
              " Text(0.0672834314550042, 0.7285714285714285, 'gini = 0.0\\nsamples = 2\\nvalue = [0, 2, 0, 0]'),\n",
              " Text(0.08074011774600505, 0.7285714285714285, 'x[4145] <= 0.0\\ngini = 0.024\\nsamples = 820\\nvalue = [7, 3, 810, 0]'),\n",
              " Text(0.0672834314550042, 0.7, 'x[4466] <= 0.0\\ngini = 0.5\\nsamples = 8\\nvalue = [4, 0, 4, 0]'),\n",
              " Text(0.060555088309503784, 0.6714285714285714, 'gini = 0.0\\nsamples = 4\\nvalue = [4, 0, 0, 0]'),\n",
              " Text(0.07401177460050462, 0.6714285714285714, 'gini = 0.0\\nsamples = 4\\nvalue = [0, 0, 4, 0]'),\n",
              " Text(0.0941968040370059, 0.7, 'x[13874] <= 0.0\\ngini = 0.015\\nsamples = 812\\nvalue = [3, 3, 806, 0]'),\n",
              " Text(0.08746846089150546, 0.6714285714285714, 'gini = 0.0\\nsamples = 1\\nvalue = [1, 0, 0, 0]'),\n",
              " Text(0.10092514718250631, 0.6714285714285714, 'x[5903] <= 0.0\\ngini = 0.012\\nsamples = 811\\nvalue = [2, 3, 806, 0]'),\n",
              " Text(0.0941968040370059, 0.6428571428571429, 'gini = 0.0\\nsamples = 1\\nvalue = [1, 0, 0, 0]'),\n",
              " Text(0.10765349032800672, 0.6428571428571429, 'x[2891] <= 0.0\\ngini = 0.01\\nsamples = 810\\nvalue = [1, 3, 806, 0]'),\n",
              " Text(0.10092514718250631, 0.6142857142857143, 'gini = 0.0\\nsamples = 1\\nvalue = [0, 1, 0, 0]'),\n",
              " Text(0.11438183347350715, 0.6142857142857143, 'x[4788] <= 0.002\\ngini = 0.007\\nsamples = 809\\nvalue = [1, 2, 806, 0]'),\n",
              " Text(0.10765349032800672, 0.5857142857142857, 'x[12178] <= 0.004\\ngini = 0.005\\nsamples = 808\\nvalue = [1, 1, 806, 0]'),\n",
              " Text(0.10092514718250631, 0.5571428571428572, 'x[4413] <= 0.002\\ngini = 0.002\\nsamples = 807\\nvalue = [1, 0, 806, 0]'),\n",
              " Text(0.0941968040370059, 0.5285714285714286, 'gini = 0.0\\nsamples = 804\\nvalue = [0, 0, 804, 0]'),\n",
              " Text(0.10765349032800672, 0.5285714285714286, 'x[11961] <= 0.001\\ngini = 0.444\\nsamples = 3\\nvalue = [1, 0, 2, 0]'),\n",
              " Text(0.10092514718250631, 0.5, 'gini = 0.0\\nsamples = 2\\nvalue = [0, 0, 2, 0]'),\n",
              " Text(0.11438183347350715, 0.5, 'gini = 0.0\\nsamples = 1\\nvalue = [1, 0, 0, 0]'),\n",
              " Text(0.11438183347350715, 0.5571428571428572, 'gini = 0.0\\nsamples = 1\\nvalue = [0, 1, 0, 0]'),\n",
              " Text(0.12111017661900757, 0.5857142857142857, 'gini = 0.0\\nsamples = 1\\nvalue = [0, 1, 0, 0]'),\n",
              " Text(0.0941968040370059, 0.7857142857142857, 'x[7518] <= 0.0\\ngini = 0.375\\nsamples = 4\\nvalue = [0, 3, 1, 0]'),\n",
              " Text(0.08746846089150546, 0.7571428571428571, 'gini = 0.0\\nsamples = 3\\nvalue = [0, 3, 0, 0]'),\n",
              " Text(0.10092514718250631, 0.7571428571428571, 'gini = 0.0\\nsamples = 1\\nvalue = [0, 0, 1, 0]'),\n",
              " Text(0.05214465937762826, 0.8714285714285714, 'gini = 0.0\\nsamples = 5\\nvalue = [0, 5, 0, 0]'),\n",
              " Text(0.20857863751051303, 0.9, 'x[10057] <= 0.003\\ngini = 0.596\\nsamples = 449\\nvalue = [159, 61, 229, 0]'),\n",
              " Text(0.15138772077375945, 0.8714285714285714, 'x[243] <= 0.003\\ngini = 0.304\\nsamples = 167\\nvalue = [5, 25, 137, 0]'),\n",
              " Text(0.127838519764508, 0.8428571428571429, 'x[11857] <= 0.003\\ngini = 0.106\\nsamples = 144\\nvalue = [3, 5, 136, 0]'),\n",
              " Text(0.11438183347350715, 0.8142857142857143, 'x[11482] <= 0.003\\ngini = 0.043\\nsamples = 136\\nvalue = [3, 0, 133, 0]'),\n",
              " Text(0.10765349032800672, 0.7857142857142857, 'gini = 0.0\\nsamples = 128\\nvalue = [0, 0, 128, 0]'),\n",
              " Text(0.12111017661900757, 0.7857142857142857, 'x[8185] <= 0.003\\ngini = 0.469\\nsamples = 8\\nvalue = [3, 0, 5, 0]'),\n",
              " Text(0.11438183347350715, 0.7571428571428571, 'gini = 0.0\\nsamples = 3\\nvalue = [3, 0, 0, 0]'),\n",
              " Text(0.127838519764508, 0.7571428571428571, 'gini = 0.0\\nsamples = 5\\nvalue = [0, 0, 5, 0]'),\n",
              " Text(0.14129520605550883, 0.8142857142857143, 'x[13642] <= 0.003\\ngini = 0.469\\nsamples = 8\\nvalue = [0, 5, 3, 0]'),\n",
              " Text(0.1345668629100084, 0.7857142857142857, 'gini = 0.0\\nsamples = 5\\nvalue = [0, 5, 0, 0]'),\n",
              " Text(0.14802354920100924, 0.7857142857142857, 'gini = 0.0\\nsamples = 3\\nvalue = [0, 0, 3, 0]'),\n",
              " Text(0.17493692178301093, 0.8428571428571429, 'x[14198] <= 0.0\\ngini = 0.234\\nsamples = 23\\nvalue = [2, 20, 1, 0]'),\n",
              " Text(0.16820857863751051, 0.8142857142857143, 'x[3320] <= 0.0\\ngini = 0.444\\nsamples = 3\\nvalue = [2, 0, 1, 0]'),\n",
              " Text(0.1614802354920101, 0.7857142857142857, 'gini = 0.0\\nsamples = 1\\nvalue = [0, 0, 1, 0]'),\n",
              " Text(0.17493692178301093, 0.7857142857142857, 'gini = 0.0\\nsamples = 2\\nvalue = [2, 0, 0, 0]'),\n",
              " Text(0.18166526492851134, 0.8142857142857143, 'gini = 0.0\\nsamples = 20\\nvalue = [0, 20, 0, 0]'),\n",
              " Text(0.2657695542472666, 0.8714285714285714, 'x[8671] <= 0.003\\ngini = 0.579\\nsamples = 282\\nvalue = [154, 36, 92, 0]'),\n",
              " Text(0.2287636669470143, 0.8428571428571429, 'x[3220] <= 0.003\\ngini = 0.38\\nsamples = 196\\nvalue = [150, 12, 34, 0]'),\n",
              " Text(0.20185029436501262, 0.8142857142857143, 'x[11976] <= 0.002\\ngini = 0.412\\nsamples = 27\\nvalue = [2, 5, 20, 0]'),\n",
              " Text(0.1883936080740118, 0.7857142857142857, 'x[1549] <= 0.003\\ngini = 0.091\\nsamples = 21\\nvalue = [1, 0, 20, 0]'),\n",
              " Text(0.18166526492851134, 0.7571428571428571, 'gini = 0.0\\nsamples = 20\\nvalue = [0, 0, 20, 0]'),\n",
              " Text(0.1951219512195122, 0.7571428571428571, 'gini = 0.0\\nsamples = 1\\nvalue = [1, 0, 0, 0]'),\n",
              " Text(0.21530698065601345, 0.7857142857142857, 'x[9067] <= 0.003\\ngini = 0.278\\nsamples = 6\\nvalue = [1, 5, 0, 0]'),\n",
              " Text(0.20857863751051303, 0.7571428571428571, 'gini = 0.0\\nsamples = 1\\nvalue = [1, 0, 0, 0]'),\n",
              " Text(0.2220353238015139, 0.7571428571428571, 'gini = 0.0\\nsamples = 5\\nvalue = [0, 5, 0, 0]'),\n",
              " Text(0.255677039529016, 0.8142857142857143, 'x[6837] <= 0.003\\ngini = 0.225\\nsamples = 169\\nvalue = [148, 7, 14, 0]'),\n",
              " Text(0.24222035323801513, 0.7857142857142857, 'x[13294] <= 0.003\\ngini = 0.12\\nsamples = 158\\nvalue = [148, 6, 4, 0]'),\n",
              " Text(0.23549201009251472, 0.7571428571428571, 'gini = 0.0\\nsamples = 6\\nvalue = [0, 6, 0, 0]'),\n",
              " Text(0.24894869638351555, 0.7571428571428571, 'x[6649] <= 0.002\\ngini = 0.051\\nsamples = 152\\nvalue = [148, 0, 4, 0]'),\n",
              " Text(0.24222035323801513, 0.7285714285714285, 'gini = 0.0\\nsamples = 3\\nvalue = [0, 0, 3, 0]'),\n",
              " Text(0.255677039529016, 0.7285714285714285, 'x[1073] <= 0.001\\ngini = 0.013\\nsamples = 149\\nvalue = [148, 0, 1, 0]'),\n",
              " Text(0.24894869638351555, 0.7, 'gini = 0.0\\nsamples = 148\\nvalue = [148, 0, 0, 0]'),\n",
              " Text(0.2624053826745164, 0.7, 'gini = 0.0\\nsamples = 1\\nvalue = [0, 0, 1, 0]'),\n",
              " Text(0.2691337258200168, 0.7857142857142857, 'x[13119] <= 0.002\\ngini = 0.165\\nsamples = 11\\nvalue = [0, 1, 10, 0]'),\n",
              " Text(0.2624053826745164, 0.7571428571428571, 'gini = 0.0\\nsamples = 10\\nvalue = [0, 0, 10, 0]'),\n",
              " Text(0.27586206896551724, 0.7571428571428571, 'gini = 0.0\\nsamples = 1\\nvalue = [0, 1, 0, 0]'),\n",
              " Text(0.3027754415475189, 0.8428571428571429, 'x[2904] <= 0.002\\ngini = 0.465\\nsamples = 86\\nvalue = [4, 24, 58, 0]'),\n",
              " Text(0.28931875525651807, 0.8142857142857143, 'x[10178] <= 0.0\\ngini = 0.124\\nsamples = 60\\nvalue = [4, 0, 56, 0]'),\n",
              " Text(0.28259041211101765, 0.7857142857142857, 'gini = 0.0\\nsamples = 3\\nvalue = [3, 0, 0, 0]'),\n",
              " Text(0.2960470984020185, 0.7857142857142857, 'x[8922] <= 0.001\\ngini = 0.034\\nsamples = 57\\nvalue = [1, 0, 56, 0]'),\n",
              " Text(0.28931875525651807, 0.7571428571428571, 'gini = 0.0\\nsamples = 1\\nvalue = [1, 0, 0, 0]'),\n",
              " Text(0.3027754415475189, 0.7571428571428571, 'gini = 0.0\\nsamples = 56\\nvalue = [0, 0, 56, 0]'),\n",
              " Text(0.3162321278385198, 0.8142857142857143, 'x[10013] <= 0.0\\ngini = 0.142\\nsamples = 26\\nvalue = [0, 24, 2, 0]'),\n",
              " Text(0.30950378469301937, 0.7857142857142857, 'gini = 0.0\\nsamples = 24\\nvalue = [0, 24, 0, 0]'),\n",
              " Text(0.3229604709840202, 0.7857142857142857, 'gini = 0.0\\nsamples = 2\\nvalue = [0, 0, 2, 0]'),\n",
              " Text(0.645842094196804, 0.9285714285714286, 'x[6] <= 0.002\\ngini = 0.563\\nsamples = 2308\\nvalue = [1023, 1120, 165, 0]'),\n",
              " Text(0.501892346509672, 0.9, 'x[180] <= 0.004\\ngini = 0.52\\nsamples = 946\\nvalue = [607, 213, 126, 0]'),\n",
              " Text(0.40916736753574434, 0.8714285714285714, 'x[12438] <= 0.001\\ngini = 0.351\\nsamples = 754\\nvalue = [583, 171, 0, 0]'),\n",
              " Text(0.3666947014297729, 0.8428571428571429, 'x[9963] <= 0.004\\ngini = 0.151\\nsamples = 548\\nvalue = [503, 45, 0, 0]'),\n",
              " Text(0.34987384356602186, 0.8142857142857143, 'x[6854] <= 0.002\\ngini = 0.097\\nsamples = 526\\nvalue = [499, 27, 0, 0]'),\n",
              " Text(0.33641715727502103, 0.7857142857142857, 'x[7418] <= 0.0\\ngini = 0.053\\nsamples = 511\\nvalue = [497, 14, 0, 0]'),\n",
              " Text(0.3296888141295206, 0.7571428571428571, 'gini = 0.0\\nsamples = 4\\nvalue = [0, 4, 0, 0]'),\n",
              " Text(0.34314550042052144, 0.7571428571428571, 'x[47] <= 0.004\\ngini = 0.039\\nsamples = 507\\nvalue = [497, 10, 0, 0]'),\n",
              " Text(0.33641715727502103, 0.7285714285714285, 'x[14057] <= 0.003\\ngini = 0.027\\nsamples = 504\\nvalue = [497, 7, 0, 0]'),\n",
              " Text(0.3296888141295206, 0.7, 'x[2875] <= 0.004\\ngini = 0.016\\nsamples = 501\\nvalue = [497, 4, 0, 0]'),\n",
              " Text(0.3229604709840202, 0.6714285714285714, 'x[14217] <= 0.004\\ngini = 0.008\\nsamples = 499\\nvalue = [497, 2, 0, 0]'),\n",
              " Text(0.3162321278385198, 0.6428571428571429, 'x[13173] <= 0.004\\ngini = 0.004\\nsamples = 498\\nvalue = [497, 1, 0, 0]'),\n",
              " Text(0.30950378469301937, 0.6142857142857143, 'gini = 0.0\\nsamples = 497\\nvalue = [497, 0, 0, 0]'),\n",
              " Text(0.3229604709840202, 0.6142857142857143, 'gini = 0.0\\nsamples = 1\\nvalue = [0, 1, 0, 0]'),\n",
              " Text(0.3296888141295206, 0.6428571428571429, 'gini = 0.0\\nsamples = 1\\nvalue = [0, 1, 0, 0]'),\n",
              " Text(0.33641715727502103, 0.6714285714285714, 'gini = 0.0\\nsamples = 2\\nvalue = [0, 2, 0, 0]'),\n",
              " Text(0.34314550042052144, 0.7, 'gini = 0.0\\nsamples = 3\\nvalue = [0, 3, 0, 0]'),\n",
              " Text(0.34987384356602186, 0.7285714285714285, 'gini = 0.0\\nsamples = 3\\nvalue = [0, 3, 0, 0]'),\n",
              " Text(0.3633305298570227, 0.7857142857142857, 'x[7994] <= 0.002\\ngini = 0.231\\nsamples = 15\\nvalue = [2, 13, 0, 0]'),\n",
              " Text(0.3566021867115223, 0.7571428571428571, 'gini = 0.0\\nsamples = 13\\nvalue = [0, 13, 0, 0]'),\n",
              " Text(0.3700588730025231, 0.7571428571428571, 'gini = 0.0\\nsamples = 2\\nvalue = [2, 0, 0, 0]'),\n",
              " Text(0.383515559293524, 0.8142857142857143, 'x[5029] <= 0.001\\ngini = 0.298\\nsamples = 22\\nvalue = [4, 18, 0, 0]'),\n",
              " Text(0.3767872161480236, 0.7857142857142857, 'gini = 0.0\\nsamples = 4\\nvalue = [4, 0, 0, 0]'),\n",
              " Text(0.3902439024390244, 0.7857142857142857, 'gini = 0.0\\nsamples = 18\\nvalue = [0, 18, 0, 0]'),\n",
              " Text(0.45164003364171573, 0.8428571428571429, 'x[268] <= 0.001\\ngini = 0.475\\nsamples = 206\\nvalue = [80, 126, 0, 0]'),\n",
              " Text(0.41715727502102606, 0.8142857142857143, 'x[13147] <= 0.002\\ngini = 0.281\\nsamples = 65\\nvalue = [54, 11, 0, 0]'),\n",
              " Text(0.40370058873002523, 0.7857142857142857, 'x[10696] <= 0.0\\ngini = 0.07\\nsamples = 55\\nvalue = [53, 2, 0, 0]'),\n",
              " Text(0.3969722455845248, 0.7571428571428571, 'gini = 0.0\\nsamples = 2\\nvalue = [0, 2, 0, 0]'),\n",
              " Text(0.41042893187552565, 0.7571428571428571, 'gini = 0.0\\nsamples = 53\\nvalue = [53, 0, 0, 0]'),\n",
              " Text(0.4306139613120269, 0.7857142857142857, 'x[10190] <= 0.003\\ngini = 0.18\\nsamples = 10\\nvalue = [1, 9, 0, 0]'),\n",
              " Text(0.4238856181665265, 0.7571428571428571, 'gini = 0.0\\nsamples = 9\\nvalue = [0, 9, 0, 0]'),\n",
              " Text(0.4373423044575273, 0.7571428571428571, 'gini = 0.0\\nsamples = 1\\nvalue = [1, 0, 0, 0]'),\n",
              " Text(0.4861227922624054, 0.8142857142857143, 'x[4427] <= 0.0\\ngini = 0.301\\nsamples = 141\\nvalue = [26, 115, 0, 0]'),\n",
              " Text(0.4575273338940286, 0.7857142857142857, 'x[1158] <= 0.003\\ngini = 0.42\\nsamples = 20\\nvalue = [14, 6, 0, 0]'),\n",
              " Text(0.4507989907485282, 0.7571428571428571, 'gini = 0.0\\nsamples = 13\\nvalue = [13, 0, 0, 0]'),\n",
              " Text(0.464255677039529, 0.7571428571428571, 'x[10161] <= 0.002\\ngini = 0.245\\nsamples = 7\\nvalue = [1, 6, 0, 0]'),\n",
              " Text(0.4575273338940286, 0.7285714285714285, 'gini = 0.5\\nsamples = 2\\nvalue = [1, 1, 0, 0]'),\n",
              " Text(0.47098402018502944, 0.7285714285714285, 'gini = 0.0\\nsamples = 5\\nvalue = [0, 5, 0, 0]'),\n",
              " Text(0.5147182506307821, 0.7857142857142857, 'x[4700] <= 0.002\\ngini = 0.179\\nsamples = 121\\nvalue = [12, 109, 0, 0]'),\n",
              " Text(0.4978973927670311, 0.7571428571428571, 'x[3353] <= 0.003\\ngini = 0.101\\nsamples = 113\\nvalue = [6, 107, 0, 0]'),\n",
              " Text(0.48444070647603027, 0.7285714285714285, 'x[12633] <= 0.0\\ngini = 0.019\\nsamples = 104\\nvalue = [1, 103, 0, 0]'),\n",
              " Text(0.47771236333052985, 0.7, 'gini = 0.0\\nsamples = 1\\nvalue = [1, 0, 0, 0]'),\n",
              " Text(0.4911690496215307, 0.7, 'gini = 0.0\\nsamples = 103\\nvalue = [0, 103, 0, 0]'),\n",
              " Text(0.511354079058032, 0.7285714285714285, 'x[29] <= 0.0\\ngini = 0.494\\nsamples = 9\\nvalue = [5, 4, 0, 0]'),\n",
              " Text(0.5046257359125316, 0.7, 'gini = 0.0\\nsamples = 4\\nvalue = [4, 0, 0, 0]'),\n",
              " Text(0.5180824222035324, 0.7, 'x[7066] <= 0.001\\ngini = 0.32\\nsamples = 5\\nvalue = [1, 4, 0, 0]'),\n",
              " Text(0.511354079058032, 0.6714285714285714, 'gini = 0.5\\nsamples = 2\\nvalue = [1, 1, 0, 0]'),\n",
              " Text(0.5248107653490328, 0.6714285714285714, 'gini = 0.0\\nsamples = 3\\nvalue = [0, 3, 0, 0]'),\n",
              " Text(0.5315391084945332, 0.7571428571428571, 'x[2270] <= 0.004\\ngini = 0.375\\nsamples = 8\\nvalue = [6, 2, 0, 0]'),\n",
              " Text(0.5248107653490328, 0.7285714285714285, 'gini = 0.0\\nsamples = 5\\nvalue = [5, 0, 0, 0]'),\n",
              " Text(0.5382674516400336, 0.7285714285714285, 'x[7917] <= 0.001\\ngini = 0.444\\nsamples = 3\\nvalue = [1, 2, 0, 0]'),\n",
              " Text(0.5315391084945332, 0.7, 'gini = 0.0\\nsamples = 1\\nvalue = [0, 1, 0, 0]'),\n",
              " Text(0.5449957947855341, 0.7, 'gini = 0.5\\nsamples = 2\\nvalue = [1, 1, 0, 0]'),\n",
              " Text(0.5946173254835997, 0.8714285714285714, 'x[10059] <= 0.001\\ngini = 0.506\\nsamples = 192\\nvalue = [24, 42, 126, 0]'),\n",
              " Text(0.5651808242220353, 0.8428571428571429, 'x[2268] <= 0.003\\ngini = 0.137\\nsamples = 109\\nvalue = [1, 7, 101, 0]'),\n",
              " Text(0.5584524810765349, 0.8142857142857143, 'x[9722] <= 0.003\\ngini = 0.056\\nsamples = 104\\nvalue = [1, 2, 101, 0]'),\n",
              " Text(0.5517241379310345, 0.7857142857142857, 'x[80] <= 0.0\\ngini = 0.019\\nsamples = 102\\nvalue = [1, 0, 101, 0]'),\n",
              " Text(0.5449957947855341, 0.7571428571428571, 'gini = 0.0\\nsamples = 1\\nvalue = [1, 0, 0, 0]'),\n",
              " Text(0.5584524810765349, 0.7571428571428571, 'gini = 0.0\\nsamples = 101\\nvalue = [0, 0, 101, 0]'),\n",
              " Text(0.5651808242220353, 0.7857142857142857, 'gini = 0.0\\nsamples = 2\\nvalue = [0, 2, 0, 0]'),\n",
              " Text(0.5719091673675357, 0.8142857142857143, 'gini = 0.0\\nsamples = 5\\nvalue = [0, 5, 0, 0]'),\n",
              " Text(0.624053826745164, 0.8428571428571429, 'x[2728] <= 0.003\\ngini = 0.655\\nsamples = 83\\nvalue = [23, 35, 25, 0]'),\n",
              " Text(0.592094196804037, 0.8142857142857143, 'x[4857] <= 0.002\\ngini = 0.209\\nsamples = 35\\nvalue = [2, 31, 2, 0]'),\n",
              " Text(0.5786375105130361, 0.7857142857142857, 'x[1667] <= 0.0\\ngini = 0.444\\nsamples = 3\\nvalue = [1, 0, 2, 0]'),\n",
              " Text(0.5719091673675357, 0.7571428571428571, 'gini = 0.0\\nsamples = 1\\nvalue = [1, 0, 0, 0]'),\n",
              " Text(0.5853658536585366, 0.7571428571428571, 'gini = 0.0\\nsamples = 2\\nvalue = [0, 0, 2, 0]'),\n",
              " Text(0.6055508830950378, 0.7857142857142857, 'x[8828] <= 0.0\\ngini = 0.061\\nsamples = 32\\nvalue = [1, 31, 0, 0]'),\n",
              " Text(0.5988225399495374, 0.7571428571428571, 'gini = 0.0\\nsamples = 1\\nvalue = [1, 0, 0, 0]'),\n",
              " Text(0.6122792262405383, 0.7571428571428571, 'gini = 0.0\\nsamples = 31\\nvalue = [0, 31, 0, 0]'),\n",
              " Text(0.656013456686291, 0.8142857142857143, 'x[7291] <= 0.003\\ngini = 0.572\\nsamples = 48\\nvalue = [21, 4, 23, 0]'),\n",
              " Text(0.63919259882254, 0.7857142857142857, 'x[9999] <= 0.002\\ngini = 0.477\\nsamples = 32\\nvalue = [6, 4, 22, 0]'),\n",
              " Text(0.6257359125315392, 0.7571428571428571, 'x[2556] <= 0.002\\ngini = 0.58\\nsamples = 10\\nvalue = [5, 4, 1, 0]'),\n",
              " Text(0.6190075693860387, 0.7285714285714285, 'gini = 0.0\\nsamples = 5\\nvalue = [5, 0, 0, 0]'),\n",
              " Text(0.6324642556770396, 0.7285714285714285, 'x[2425] <= 0.003\\ngini = 0.32\\nsamples = 5\\nvalue = [0, 4, 1, 0]'),\n",
              " Text(0.6257359125315392, 0.7, 'gini = 0.0\\nsamples = 4\\nvalue = [0, 4, 0, 0]'),\n",
              " Text(0.63919259882254, 0.7, 'gini = 0.0\\nsamples = 1\\nvalue = [0, 0, 1, 0]'),\n",
              " Text(0.6526492851135408, 0.7571428571428571, 'x[2036] <= 0.0\\ngini = 0.087\\nsamples = 22\\nvalue = [1, 0, 21, 0]'),\n",
              " Text(0.6459209419680404, 0.7285714285714285, 'gini = 0.0\\nsamples = 21\\nvalue = [0, 0, 21, 0]'),\n",
              " Text(0.6593776282590412, 0.7285714285714285, 'gini = 0.0\\nsamples = 1\\nvalue = [1, 0, 0, 0]'),\n",
              " Text(0.6728343145500421, 0.7857142857142857, 'x[2672] <= 0.0\\ngini = 0.117\\nsamples = 16\\nvalue = [15, 0, 1, 0]'),\n",
              " Text(0.6661059714045416, 0.7571428571428571, 'gini = 0.0\\nsamples = 15\\nvalue = [15, 0, 0, 0]'),\n",
              " Text(0.6795626576955425, 0.7571428571428571, 'gini = 0.0\\nsamples = 1\\nvalue = [0, 0, 1, 0]'),\n",
              " Text(0.789791841883936, 0.9, 'x[562] <= 0.001\\ngini = 0.462\\nsamples = 1362\\nvalue = [416, 907, 39, 0]'),\n",
              " Text(0.7132043734230445, 0.8714285714285714, 'x[8648] <= 0.0\\ngini = 0.409\\nsamples = 191\\nvalue = [138, 50, 3, 0]'),\n",
              " Text(0.6997476871320437, 0.8428571428571429, 'x[3647] <= 0.0\\ngini = 0.4\\nsamples = 59\\nvalue = [12, 44, 3, 0]'),\n",
              " Text(0.6930193439865433, 0.8142857142857143, 'gini = 0.0\\nsamples = 9\\nvalue = [9, 0, 0, 0]'),\n",
              " Text(0.7064760302775441, 0.8142857142857143, 'x[14063] <= 0.0\\ngini = 0.218\\nsamples = 50\\nvalue = [3, 44, 3, 0]'),\n",
              " Text(0.6997476871320437, 0.7857142857142857, 'x[4080] <= 0.004\\ngini = 0.5\\nsamples = 6\\nvalue = [3, 0, 3, 0]'),\n",
              " Text(0.6930193439865433, 0.7571428571428571, 'gini = 0.0\\nsamples = 3\\nvalue = [3, 0, 0, 0]'),\n",
              " Text(0.7064760302775441, 0.7571428571428571, 'gini = 0.0\\nsamples = 3\\nvalue = [0, 0, 3, 0]'),\n",
              " Text(0.7132043734230445, 0.7857142857142857, 'gini = 0.0\\nsamples = 44\\nvalue = [0, 44, 0, 0]'),\n",
              " Text(0.7266610597140454, 0.8428571428571429, 'x[1188] <= 0.0\\ngini = 0.087\\nsamples = 132\\nvalue = [126, 6, 0, 0]'),\n",
              " Text(0.719932716568545, 0.8142857142857143, 'gini = 0.0\\nsamples = 4\\nvalue = [0, 4, 0, 0]'),\n",
              " Text(0.7333894028595458, 0.8142857142857143, 'x[4757] <= 0.0\\ngini = 0.031\\nsamples = 128\\nvalue = [126, 2, 0, 0]'),\n",
              " Text(0.7266610597140454, 0.7857142857142857, 'gini = 0.0\\nsamples = 2\\nvalue = [0, 2, 0, 0]'),\n",
              " Text(0.7401177460050462, 0.7857142857142857, 'gini = 0.0\\nsamples = 126\\nvalue = [126, 0, 0, 0]'),\n",
              " Text(0.8663793103448276, 0.8714285714285714, 'x[12209] <= 0.0\\ngini = 0.407\\nsamples = 1171\\nvalue = [278, 857, 36, 0]'),\n",
              " Text(0.7949957947855341, 0.8428571428571429, 'x[3136] <= 0.002\\ngini = 0.556\\nsamples = 326\\nvalue = [143, 162, 21, 0]'),\n",
              " Text(0.7603027754415476, 0.8142857142857143, 'x[1046] <= 0.0\\ngini = 0.16\\nsamples = 104\\nvalue = [8, 95, 1, 0]'),\n",
              " Text(0.7535744322960471, 0.7857142857142857, 'gini = 0.0\\nsamples = 5\\nvalue = [5, 0, 0, 0]'),\n",
              " Text(0.767031118587048, 0.7857142857142857, 'x[10221] <= 0.004\\ngini = 0.078\\nsamples = 99\\nvalue = [3, 95, 1, 0]'),\n",
              " Text(0.7603027754415476, 0.7571428571428571, 'x[8225] <= 0.0\\ngini = 0.021\\nsamples = 96\\nvalue = [0, 95, 1, 0]'),\n",
              " Text(0.7535744322960471, 0.7285714285714285, 'gini = 0.0\\nsamples = 1\\nvalue = [0, 0, 1, 0]'),\n",
              " Text(0.767031118587048, 0.7285714285714285, 'gini = 0.0\\nsamples = 95\\nvalue = [0, 95, 0, 0]'),\n",
              " Text(0.7737594617325484, 0.7571428571428571, 'gini = 0.0\\nsamples = 3\\nvalue = [3, 0, 0, 0]'),\n",
              " Text(0.8296888141295206, 0.8142857142857143, 'x[1260] <= 0.004\\ngini = 0.531\\nsamples = 222\\nvalue = [135, 67, 20, 0]'),\n",
              " Text(0.7939444911690496, 0.7857142857142857, 'x[7365] <= 0.0\\ngini = 0.158\\nsamples = 94\\nvalue = [86, 6, 2, 0]'),\n",
              " Text(0.7872161480235492, 0.7571428571428571, 'gini = 0.0\\nsamples = 5\\nvalue = [0, 5, 0, 0]'),\n",
              " Text(0.80067283431455, 0.7571428571428571, 'x[50] <= 0.0\\ngini = 0.066\\nsamples = 89\\nvalue = [86, 1, 2, 0]'),\n",
              " Text(0.7939444911690496, 0.7285714285714285, 'gini = 0.0\\nsamples = 86\\nvalue = [86, 0, 0, 0]'),\n",
              " Text(0.8074011774600505, 0.7285714285714285, 'x[7032] <= 0.002\\ngini = 0.444\\nsamples = 3\\nvalue = [0, 1, 2, 0]'),\n",
              " Text(0.80067283431455, 0.7, 'gini = 0.0\\nsamples = 1\\nvalue = [0, 1, 0, 0]'),\n",
              " Text(0.8141295206055509, 0.7, 'gini = 0.0\\nsamples = 2\\nvalue = [0, 0, 2, 0]'),\n",
              " Text(0.8654331370899916, 0.7857142857142857, 'x[6568] <= 0.004\\ngini = 0.607\\nsamples = 128\\nvalue = [49, 61, 18, 0]'),\n",
              " Text(0.8587047939444912, 0.7571428571428571, 'x[5569] <= 0.003\\ngini = 0.572\\nsamples = 105\\nvalue = [26, 61, 18, 0]'),\n",
              " Text(0.8343145500420521, 0.7285714285714285, 'x[12763] <= 0.003\\ngini = 0.417\\nsamples = 22\\nvalue = [1, 5, 16, 0]'),\n",
              " Text(0.8275862068965517, 0.7, 'x[2614] <= 0.002\\ngini = 0.278\\nsamples = 6\\nvalue = [1, 5, 0, 0]'),\n",
              " Text(0.8208578637510513, 0.6714285714285714, 'gini = 0.0\\nsamples = 1\\nvalue = [1, 0, 0, 0]'),\n",
              " Text(0.8343145500420521, 0.6714285714285714, 'gini = 0.0\\nsamples = 5\\nvalue = [0, 5, 0, 0]'),\n",
              " Text(0.8410428931875525, 0.7, 'gini = 0.0\\nsamples = 16\\nvalue = [0, 0, 16, 0]'),\n",
              " Text(0.8830950378469302, 0.7285714285714285, 'x[574] <= 0.003\\ngini = 0.453\\nsamples = 83\\nvalue = [25, 56, 2, 0]'),\n",
              " Text(0.864592094196804, 0.7, 'x[1869] <= 0.002\\ngini = 0.538\\nsamples = 44\\nvalue = [23, 19, 2, 0]'),\n",
              " Text(0.847771236333053, 0.6714285714285714, 'x[11653] <= 0.003\\ngini = 0.111\\nsamples = 17\\nvalue = [1, 16, 0, 0]'),\n",
              " Text(0.8410428931875525, 0.6428571428571429, 'gini = 0.0\\nsamples = 1\\nvalue = [1, 0, 0, 0]'),\n",
              " Text(0.8544995794785534, 0.6428571428571429, 'gini = 0.0\\nsamples = 16\\nvalue = [0, 16, 0, 0]'),\n",
              " Text(0.8814129520605551, 0.6714285714285714, 'x[4611] <= 0.002\\ngini = 0.318\\nsamples = 27\\nvalue = [22, 3, 2, 0]'),\n",
              " Text(0.8679562657695542, 0.6428571428571429, 'x[5978] <= 0.0\\ngini = 0.375\\nsamples = 4\\nvalue = [0, 3, 1, 0]'),\n",
              " Text(0.8612279226240538, 0.6142857142857143, 'gini = 0.0\\nsamples = 3\\nvalue = [0, 3, 0, 0]'),\n",
              " Text(0.8746846089150546, 0.6142857142857143, 'gini = 0.0\\nsamples = 1\\nvalue = [0, 0, 1, 0]'),\n",
              " Text(0.894869638351556, 0.6428571428571429, 'x[853] <= 0.003\\ngini = 0.083\\nsamples = 23\\nvalue = [22, 0, 1, 0]'),\n",
              " Text(0.8881412952060556, 0.6142857142857143, 'gini = 0.0\\nsamples = 1\\nvalue = [0, 0, 1, 0]'),\n",
              " Text(0.9015979814970564, 0.6142857142857143, 'gini = 0.0\\nsamples = 22\\nvalue = [22, 0, 0, 0]'),\n",
              " Text(0.9015979814970564, 0.7, 'x[12779] <= 0.0\\ngini = 0.097\\nsamples = 39\\nvalue = [2, 37, 0, 0]'),\n",
              " Text(0.894869638351556, 0.6714285714285714, 'gini = 0.0\\nsamples = 37\\nvalue = [0, 37, 0, 0]'),\n",
              " Text(0.9083263246425568, 0.6714285714285714, 'gini = 0.0\\nsamples = 2\\nvalue = [2, 0, 0, 0]'),\n",
              " Text(0.872161480235492, 0.7571428571428571, 'gini = 0.0\\nsamples = 23\\nvalue = [23, 0, 0, 0]'),\n",
              " Text(0.9377628259041211, 0.8428571428571429, 'x[2653] <= 0.0\\ngini = 0.298\\nsamples = 845\\nvalue = [135, 695, 15, 0]'),\n",
              " Text(0.9058031959629941, 0.8142857142857143, 'x[3469] <= 0.002\\ngini = 0.32\\nsamples = 60\\nvalue = [48, 12, 0, 0]'),\n",
              " Text(0.8923465096719932, 0.7857142857142857, 'x[4487] <= 0.0\\ngini = 0.042\\nsamples = 47\\nvalue = [46, 1, 0, 0]'),\n",
              " Text(0.8856181665264928, 0.7571428571428571, 'gini = 0.0\\nsamples = 1\\nvalue = [0, 1, 0, 0]'),\n",
              " Text(0.8990748528174937, 0.7571428571428571, 'gini = 0.0\\nsamples = 46\\nvalue = [46, 0, 0, 0]'),\n",
              " Text(0.9192598822539949, 0.7857142857142857, 'x[10801] <= 0.001\\ngini = 0.26\\nsamples = 13\\nvalue = [2, 11, 0, 0]'),\n",
              " Text(0.9125315391084945, 0.7571428571428571, 'gini = 0.0\\nsamples = 2\\nvalue = [2, 0, 0, 0]'),\n",
              " Text(0.9259882253994953, 0.7571428571428571, 'gini = 0.0\\nsamples = 11\\nvalue = [0, 11, 0, 0]'),\n",
              " Text(0.9697224558452481, 0.8142857142857143, 'x[11365] <= 0.004\\ngini = 0.23\\nsamples = 785\\nvalue = [87, 683, 15, 0]'),\n",
              " Text(0.9529015979814971, 0.7857142857142857, 'x[191] <= 0.001\\ngini = 0.212\\nsamples = 772\\nvalue = [76, 681, 15, 0]'),\n",
              " Text(0.9394449116904963, 0.7571428571428571, 'x[11907] <= 0.003\\ngini = 0.408\\nsamples = 14\\nvalue = [0, 4, 10, 0]'),\n",
              " Text(0.9327165685449958, 0.7285714285714285, 'gini = 0.0\\nsamples = 10\\nvalue = [0, 0, 10, 0]'),\n",
              " Text(0.9461732548359967, 0.7285714285714285, 'gini = 0.0\\nsamples = 4\\nvalue = [0, 4, 0, 0]'),\n",
              " Text(0.9663582842724979, 0.7571428571428571, 'x[14252] <= 0.004\\ngini = 0.192\\nsamples = 758\\nvalue = [76, 677, 5, 0]'),\n",
              " Text(0.9596299411269975, 0.7285714285714285, 'x[7648] <= 0.004\\ngini = 0.181\\nsamples = 752\\nvalue = [70, 677, 5, 0]'),\n",
              " Text(0.9428090832632464, 0.7, 'x[7788] <= 0.004\\ngini = 0.156\\nsamples = 720\\nvalue = [56, 659, 5, 0]'),\n",
              " Text(0.9293523969722456, 0.6714285714285714, 'x[91] <= 0.0\\ngini = 0.146\\nsamples = 714\\nvalue = [51, 658, 5, 0]'),\n",
              " Text(0.9226240538267452, 0.6428571428571429, 'gini = 0.0\\nsamples = 4\\nvalue = [4, 0, 0, 0]'),\n",
              " Text(0.936080740117746, 0.6428571428571429, 'x[8618] <= 0.004\\ngini = 0.137\\nsamples = 710\\nvalue = [47, 658, 5, 0]'),\n",
              " Text(0.9226240538267452, 0.6142857142857143, 'x[1288] <= 0.001\\ngini = 0.123\\nsamples = 701\\nvalue = [41, 655, 5, 0]'),\n",
              " Text(0.9158957106812448, 0.5857142857142857, 'gini = 0.0\\nsamples = 3\\nvalue = [3, 0, 0, 0]'),\n",
              " Text(0.9293523969722456, 0.5857142857142857, 'x[3675] <= 0.004\\ngini = 0.116\\nsamples = 698\\nvalue = [38, 655, 5, 0]'),\n",
              " Text(0.9100084104289319, 0.5571428571428572, 'x[5395] <= 0.004\\ngini = 0.107\\nsamples = 694\\nvalue = [36, 655, 3, 0]'),\n",
              " Text(0.8915054667788057, 0.5285714285714286, 'x[3557] <= 0.004\\ngini = 0.099\\nsamples = 691\\nvalue = [34, 655, 2, 0]'),\n",
              " Text(0.8746846089150546, 0.5, 'x[13152] <= 0.0\\ngini = 0.092\\nsamples = 687\\nvalue = [31, 654, 2, 0]'),\n",
              " Text(0.8612279226240538, 0.4714285714285714, 'x[13603] <= 0.001\\ngini = 0.49\\nsamples = 7\\nvalue = [4, 3, 0, 0]'),\n",
              " Text(0.8544995794785534, 0.44285714285714284, 'gini = 0.0\\nsamples = 3\\nvalue = [0, 3, 0, 0]'),\n",
              " Text(0.8679562657695542, 0.44285714285714284, 'gini = 0.0\\nsamples = 4\\nvalue = [4, 0, 0, 0]'),\n",
              " Text(0.8881412952060556, 0.4714285714285714, 'x[2827] <= 0.004\\ngini = 0.082\\nsamples = 680\\nvalue = [27, 651, 2, 0]'),\n",
              " Text(0.8814129520605551, 0.44285714285714284, 'x[11008] <= 0.004\\ngini = 0.077\\nsamples = 678\\nvalue = [25, 651, 2, 0]'),\n",
              " Text(0.8679562657695542, 0.4142857142857143, 'x[7282] <= 0.004\\ngini = 0.069\\nsamples = 673\\nvalue = [22, 649, 2, 0]'),\n",
              " Text(0.8612279226240538, 0.38571428571428573, 'x[13655] <= 0.0\\ngini = 0.064\\nsamples = 671\\nvalue = [20, 649, 2, 0]'),\n",
              " Text(0.8368376787216149, 0.35714285714285715, 'x[4964] <= 0.0\\ngini = 0.366\\nsamples = 29\\nvalue = [7, 22, 0, 0]'),\n",
              " Text(0.8301093355761143, 0.32857142857142857, 'x[13274] <= 0.002\\ngini = 0.219\\nsamples = 8\\nvalue = [7, 1, 0, 0]'),\n",
              " Text(0.8233809924306139, 0.3, 'gini = 0.0\\nsamples = 7\\nvalue = [7, 0, 0, 0]'),\n",
              " Text(0.8368376787216149, 0.3, 'gini = 0.0\\nsamples = 1\\nvalue = [0, 1, 0, 0]'),\n",
              " Text(0.8435660218671153, 0.32857142857142857, 'gini = 0.0\\nsamples = 21\\nvalue = [0, 21, 0, 0]'),\n",
              " Text(0.8856181665264928, 0.35714285714285715, 'x[12200] <= 0.004\\ngini = 0.046\\nsamples = 642\\nvalue = [13, 627, 2, 0]'),\n",
              " Text(0.8671152228763667, 0.32857142857142857, 'x[7846] <= 0.004\\ngini = 0.04\\nsamples = 639\\nvalue = [11, 626, 2, 0]'),\n",
              " Text(0.8502943650126157, 0.3, 'x[1226] <= 0.0\\ngini = 0.034\\nsamples = 636\\nvalue = [9, 625, 2, 0]'),\n",
              " Text(0.8368376787216149, 0.2714285714285714, 'x[260] <= 0.0\\ngini = 0.611\\nsamples = 6\\nvalue = [1, 3, 2, 0]'),\n",
              " Text(0.8301093355761143, 0.24285714285714285, 'x[8070] <= 0.002\\ngini = 0.444\\nsamples = 3\\nvalue = [1, 0, 2, 0]'),\n",
              " Text(0.8233809924306139, 0.21428571428571427, 'gini = 0.0\\nsamples = 2\\nvalue = [0, 0, 2, 0]'),\n",
              " Text(0.8368376787216149, 0.21428571428571427, 'gini = 0.0\\nsamples = 1\\nvalue = [1, 0, 0, 0]'),\n",
              " Text(0.8435660218671153, 0.24285714285714285, 'gini = 0.0\\nsamples = 3\\nvalue = [0, 3, 0, 0]'),\n",
              " Text(0.8637510513036165, 0.2714285714285714, 'x[6700] <= 0.004\\ngini = 0.025\\nsamples = 630\\nvalue = [8, 622, 0, 0]'),\n",
              " Text(0.8570227081581161, 0.24285714285714285, 'x[6425] <= 0.004\\ngini = 0.022\\nsamples = 629\\nvalue = [7, 622, 0, 0]'),\n",
              " Text(0.8502943650126157, 0.21428571428571427, 'x[5531] <= 0.004\\ngini = 0.019\\nsamples = 628\\nvalue = [6, 622, 0, 0]'),\n",
              " Text(0.8435660218671153, 0.18571428571428572, 'x[7144] <= 0.004\\ngini = 0.016\\nsamples = 627\\nvalue = [5, 622, 0, 0]'),\n",
              " Text(0.8368376787216149, 0.15714285714285714, 'x[14388] <= 0.004\\ngini = 0.013\\nsamples = 626\\nvalue = [4, 622, 0, 0]'),\n",
              " Text(0.8301093355761143, 0.12857142857142856, 'x[43] <= 0.0\\ngini = 0.01\\nsamples = 625\\nvalue = [3, 622, 0, 0]'),\n",
              " Text(0.8233809924306139, 0.1, 'gini = 0.0\\nsamples = 1\\nvalue = [1, 0, 0, 0]'),\n",
              " Text(0.8368376787216149, 0.1, 'x[2470] <= 0.0\\ngini = 0.006\\nsamples = 624\\nvalue = [2, 622, 0, 0]'),\n",
              " Text(0.8301093355761143, 0.07142857142857142, 'gini = 0.0\\nsamples = 1\\nvalue = [1, 0, 0, 0]'),\n",
              " Text(0.8435660218671153, 0.07142857142857142, 'x[13838] <= 0.0\\ngini = 0.003\\nsamples = 623\\nvalue = [1, 622, 0, 0]'),\n",
              " Text(0.8368376787216149, 0.04285714285714286, 'x[12056] <= 0.0\\ngini = 0.375\\nsamples = 4\\nvalue = [1, 3, 0, 0]'),\n",
              " Text(0.8301093355761143, 0.014285714285714285, 'gini = 0.0\\nsamples = 1\\nvalue = [1, 0, 0, 0]'),\n",
              " Text(0.8435660218671153, 0.014285714285714285, 'gini = 0.0\\nsamples = 3\\nvalue = [0, 3, 0, 0]'),\n",
              " Text(0.8502943650126157, 0.04285714285714286, 'gini = 0.0\\nsamples = 619\\nvalue = [0, 619, 0, 0]'),\n",
              " Text(0.8435660218671153, 0.12857142857142856, 'gini = 0.0\\nsamples = 1\\nvalue = [1, 0, 0, 0]'),\n",
              " Text(0.8502943650126157, 0.15714285714285714, 'gini = 0.0\\nsamples = 1\\nvalue = [1, 0, 0, 0]'),\n",
              " Text(0.8570227081581161, 0.18571428571428572, 'gini = 0.0\\nsamples = 1\\nvalue = [1, 0, 0, 0]'),\n",
              " Text(0.8637510513036165, 0.21428571428571427, 'gini = 0.0\\nsamples = 1\\nvalue = [1, 0, 0, 0]'),\n",
              " Text(0.8704793944491169, 0.24285714285714285, 'gini = 0.0\\nsamples = 1\\nvalue = [1, 0, 0, 0]'),\n",
              " Text(0.8839360807401178, 0.3, 'x[11598] <= 0.004\\ngini = 0.444\\nsamples = 3\\nvalue = [2, 1, 0, 0]'),\n",
              " Text(0.8772077375946173, 0.2714285714285714, 'gini = 0.0\\nsamples = 2\\nvalue = [2, 0, 0, 0]'),\n",
              " Text(0.8906644238856182, 0.2714285714285714, 'gini = 0.0\\nsamples = 1\\nvalue = [0, 1, 0, 0]'),\n",
              " Text(0.904121110176619, 0.32857142857142857, 'x[13884] <= 0.001\\ngini = 0.444\\nsamples = 3\\nvalue = [2, 1, 0, 0]'),\n",
              " Text(0.8973927670311186, 0.3, 'gini = 0.0\\nsamples = 1\\nvalue = [0, 1, 0, 0]'),\n",
              " Text(0.9108494533221194, 0.3, 'gini = 0.0\\nsamples = 2\\nvalue = [2, 0, 0, 0]'),\n",
              " Text(0.8746846089150546, 0.38571428571428573, 'gini = 0.0\\nsamples = 2\\nvalue = [2, 0, 0, 0]'),\n",
              " Text(0.894869638351556, 0.4142857142857143, 'x[1270] <= 0.002\\ngini = 0.48\\nsamples = 5\\nvalue = [3, 2, 0, 0]'),\n",
              " Text(0.8881412952060556, 0.38571428571428573, 'gini = 0.0\\nsamples = 2\\nvalue = [0, 2, 0, 0]'),\n",
              " Text(0.9015979814970564, 0.38571428571428573, 'gini = 0.0\\nsamples = 3\\nvalue = [3, 0, 0, 0]'),\n",
              " Text(0.894869638351556, 0.44285714285714284, 'gini = 0.0\\nsamples = 2\\nvalue = [2, 0, 0, 0]'),\n",
              " Text(0.9083263246425568, 0.5, 'x[1402] <= 0.001\\ngini = 0.375\\nsamples = 4\\nvalue = [3, 1, 0, 0]'),\n",
              " Text(0.9015979814970564, 0.4714285714285714, 'gini = 0.0\\nsamples = 1\\nvalue = [0, 1, 0, 0]'),\n",
              " Text(0.9150546677880572, 0.4714285714285714, 'gini = 0.0\\nsamples = 3\\nvalue = [3, 0, 0, 0]'),\n",
              " Text(0.928511354079058, 0.5285714285714286, 'x[10577] <= 0.001\\ngini = 0.444\\nsamples = 3\\nvalue = [2, 0, 1, 0]'),\n",
              " Text(0.9217830109335576, 0.5, 'gini = 0.0\\nsamples = 1\\nvalue = [0, 0, 1, 0]'),\n",
              " Text(0.9352396972245585, 0.5, 'gini = 0.0\\nsamples = 2\\nvalue = [2, 0, 0, 0]'),\n",
              " Text(0.9486963835155593, 0.5571428571428572, 'x[2821] <= 0.002\\ngini = 0.5\\nsamples = 4\\nvalue = [2, 0, 2, 0]'),\n",
              " Text(0.9419680403700589, 0.5285714285714286, 'gini = 0.0\\nsamples = 2\\nvalue = [2, 0, 0, 0]'),\n",
              " Text(0.9554247266610597, 0.5285714285714286, 'gini = 0.0\\nsamples = 2\\nvalue = [0, 0, 2, 0]'),\n",
              " Text(0.9495374264087468, 0.6142857142857143, 'x[3735] <= 0.0\\ngini = 0.444\\nsamples = 9\\nvalue = [6, 3, 0, 0]'),\n",
              " Text(0.9428090832632464, 0.5857142857142857, 'gini = 0.0\\nsamples = 3\\nvalue = [0, 3, 0, 0]'),\n",
              " Text(0.9562657695542472, 0.5857142857142857, 'gini = 0.0\\nsamples = 6\\nvalue = [6, 0, 0, 0]'),\n",
              " Text(0.9562657695542472, 0.6714285714285714, 'x[12179] <= 0.0\\ngini = 0.278\\nsamples = 6\\nvalue = [5, 1, 0, 0]'),\n",
              " Text(0.9495374264087468, 0.6428571428571429, 'gini = 0.0\\nsamples = 1\\nvalue = [0, 1, 0, 0]'),\n",
              " Text(0.9629941126997477, 0.6428571428571429, 'gini = 0.0\\nsamples = 5\\nvalue = [5, 0, 0, 0]'),\n",
              " Text(0.9764507989907485, 0.7, 'x[10468] <= 0.001\\ngini = 0.492\\nsamples = 32\\nvalue = [14, 18, 0, 0]'),\n",
              " Text(0.9697224558452481, 0.6714285714285714, 'gini = 0.0\\nsamples = 16\\nvalue = [0, 16, 0, 0]'),\n",
              " Text(0.9831791421362489, 0.6714285714285714, 'x[6349] <= 0.003\\ngini = 0.219\\nsamples = 16\\nvalue = [14, 2, 0, 0]'),\n",
              " Text(0.9764507989907485, 0.6428571428571429, 'gini = 0.0\\nsamples = 2\\nvalue = [0, 2, 0, 0]'),\n",
              " Text(0.9899074852817493, 0.6428571428571429, 'gini = 0.0\\nsamples = 14\\nvalue = [14, 0, 0, 0]'),\n",
              " Text(0.9730866274179983, 0.7285714285714285, 'gini = 0.0\\nsamples = 6\\nvalue = [6, 0, 0, 0]'),\n",
              " Text(0.9865433137089992, 0.7857142857142857, 'x[4322] <= 0.0\\ngini = 0.26\\nsamples = 13\\nvalue = [11, 2, 0, 0]'),\n",
              " Text(0.9798149705634988, 0.7571428571428571, 'gini = 0.0\\nsamples = 11\\nvalue = [11, 0, 0, 0]'),\n",
              " Text(0.9932716568544996, 0.7571428571428571, 'gini = 0.0\\nsamples = 2\\nvalue = [0, 2, 0, 0]')]"
            ]
          },
          "metadata": {},
          "execution_count": 28
        },
        {
          "output_type": "display_data",
          "data": {
            "text/plain": [
              "<Figure size 640x480 with 1 Axes>"
            ],
            "image/png": "[encoded data removed]"
          },
          "metadata": {}
        }
      ]
    },
    {
      "cell_type": "code",
      "source": [
        "y_pred_img_dt = img_dtree.predict(X_test_img)\n",
        "\n",
        "from sklearn.metrics import accuracy_score\n",
        "\n",
        "print('Model accuracy score: {0:0.4f}'. format(accuracy_score(y_test_img, y_pred_img_dt)))"
      ],
      "metadata": {
        "colab": {
          "base_uri": "https://localhost:8080/"
        },
        "id": "6Dmv3rOLC72X",
        "outputId": "9d97b55b-8e1b-435d-c5a5-4d405c2ee91b"
      },
      "execution_count": null,
      "outputs": [
        {
          "output_type": "stream",
          "name": "stdout",
          "text": [
            "Model accuracy score: 0.9038\n"
          ]
        }
      ]
    },
    {
      "cell_type": "markdown",
      "source": [
        "#Multimodal Classification"
      ],
      "metadata": {
        "id": "VqR5iEd0KWZY"
      }
    },
    {
      "cell_type": "code",
      "source": [
        "concat_data = np.concatenate((X, img_data), axis=1)"
      ],
      "metadata": {
        "id": "wZdfCyjLKZmf"
      },
      "execution_count": null,
      "outputs": []
    },
    {
      "cell_type": "code",
      "source": [
        "concat_X = concat_data[:, 0 : C+6]\n",
        "concat_y = concat_data[:, C+6]\n",
        "\n",
        "from sklearn.model_selection import train_test_split\n",
        "X_train_concat, X_test_concat, y_train_concat, y_test_concat = train_test_split(concat_X,concat_y ,\n",
        "                                   random_state=104,\n",
        "                                   test_size=0.25,\n",
        "                                   shuffle=True)"
      ],
      "metadata": {
        "id": "lX5Js9e4OB9h"
      },
      "execution_count": null,
      "outputs": []
    },
    {
      "cell_type": "code",
      "source": [
        "from sklearn import tree\n",
        "from sklearn.tree import DecisionTreeClassifier\n",
        "import matplotlib.pyplot as plt\n",
        "\n",
        "concat_dtree = DecisionTreeClassifier()\n",
        "concat_dtree = concat_dtree.fit(X_train_concat, y_train_concat)\n",
        "\n",
        "tree.plot_tree(concat_dtree)"
      ],
      "metadata": {
        "colab": {
          "base_uri": "https://localhost:8080/",
          "height": 1000
        },
        "id": "2SUQ4I5Scle6",
        "outputId": "f00fedf7-001a-4c64-d5dd-7e28ec6d67b7"
      },
      "execution_count": null,
      "outputs": [
        {
          "output_type": "execute_result",
          "data": {
            "text/plain": [
              "[Text(0.3625104515050167, 0.9705882352941176, 'x[1] <= 486.0\\ngini = 0.75\\nsamples = 4800\\nvalue = [1195, 1199, 1209, 1197]'),\n",
              " Text(0.20903010033444816, 0.9117647058823529, 'x[17] <= 0.045\\ngini = 0.5\\nsamples = 2406\\nvalue = [0, 0, 1209, 1197]'),\n",
              " Text(0.1956521739130435, 0.8529411764705882, 'gini = 0.0\\nsamples = 1197\\nvalue = [0, 0, 0, 1197]'),\n",
              " Text(0.22240802675585283, 0.8529411764705882, 'gini = 0.0\\nsamples = 1209\\nvalue = [0, 0, 1209, 0]'),\n",
              " Text(0.5159908026755853, 0.9117647058823529, 'x[13] <= 0.547\\ngini = 0.5\\nsamples = 2394\\nvalue = [1195, 1199, 0, 0]'),\n",
              " Text(0.2491638795986622, 0.8529411764705882, 'x[12445] <= 0.387\\ngini = 0.366\\nsamples = 1021\\nvalue = [775, 246, 0, 0]'),\n",
              " Text(0.1705685618729097, 0.7941176470588235, 'x[6821] <= 0.779\\ngini = 0.222\\nsamples = 795\\nvalue = [694, 101, 0, 0]'),\n",
              " Text(0.10702341137123746, 0.7352941176470589, 'x[464] <= 0.845\\ngini = 0.147\\nsamples = 739\\nvalue = [680, 59, 0, 0]'),\n",
              " Text(0.06020066889632107, 0.6764705882352942, 'x[1591] <= 0.042\\ngini = 0.104\\nsamples = 712\\nvalue = [673, 39, 0, 0]'),\n",
              " Text(0.033444816053511704, 0.6176470588235294, 'x[12893] <= 0.57\\ngini = 0.305\\nsamples = 16\\nvalue = [3, 13, 0, 0]'),\n",
              " Text(0.020066889632107024, 0.5588235294117647, 'gini = 0.0\\nsamples = 3\\nvalue = [3, 0, 0, 0]'),\n",
              " Text(0.046822742474916385, 0.5588235294117647, 'gini = 0.0\\nsamples = 13\\nvalue = [0, 13, 0, 0]'),\n",
              " Text(0.08695652173913043, 0.6176470588235294, 'x[12807] <= 0.001\\ngini = 0.072\\nsamples = 696\\nvalue = [670, 26, 0, 0]'),\n",
              " Text(0.07357859531772576, 0.5588235294117647, 'gini = 0.0\\nsamples = 7\\nvalue = [0, 7, 0, 0]'),\n",
              " Text(0.10033444816053512, 0.5588235294117647, 'x[4] <= 676.5\\ngini = 0.054\\nsamples = 689\\nvalue = [670, 19, 0, 0]'),\n",
              " Text(0.06688963210702341, 0.5, 'x[14262] <= 0.814\\ngini = 0.037\\nsamples = 682\\nvalue = [669, 13, 0, 0]'),\n",
              " Text(0.04013377926421405, 0.4411764705882353, 'x[12659] <= 0.0\\ngini = 0.018\\nsamples = 664\\nvalue = [658, 6, 0, 0]'),\n",
              " Text(0.026755852842809364, 0.38235294117647056, 'gini = 0.0\\nsamples = 2\\nvalue = [0, 2, 0, 0]'),\n",
              " Text(0.05351170568561873, 0.38235294117647056, 'x[10629] <= 0.845\\ngini = 0.012\\nsamples = 662\\nvalue = [658, 4, 0, 0]'),\n",
              " Text(0.04013377926421405, 0.3235294117647059, 'x[8972] <= 0.942\\ngini = 0.006\\nsamples = 660\\nvalue = [658, 2, 0, 0]'),\n",
              " Text(0.026755852842809364, 0.2647058823529412, 'x[4241] <= 0.917\\ngini = 0.003\\nsamples = 659\\nvalue = [658, 1, 0, 0]'),\n",
              " Text(0.013377926421404682, 0.20588235294117646, 'gini = 0.0\\nsamples = 658\\nvalue = [658, 0, 0, 0]'),\n",
              " Text(0.04013377926421405, 0.20588235294117646, 'gini = 0.0\\nsamples = 1\\nvalue = [0, 1, 0, 0]'),\n",
              " Text(0.05351170568561873, 0.2647058823529412, 'gini = 0.0\\nsamples = 1\\nvalue = [0, 1, 0, 0]'),\n",
              " Text(0.06688963210702341, 0.3235294117647059, 'gini = 0.0\\nsamples = 2\\nvalue = [0, 2, 0, 0]'),\n",
              " Text(0.09364548494983277, 0.4411764705882353, 'x[6984] <= 0.401\\ngini = 0.475\\nsamples = 18\\nvalue = [11, 7, 0, 0]'),\n",
              " Text(0.0802675585284281, 0.38235294117647056, 'gini = 0.0\\nsamples = 7\\nvalue = [0, 7, 0, 0]'),\n",
              " Text(0.10702341137123746, 0.38235294117647056, 'gini = 0.0\\nsamples = 11\\nvalue = [11, 0, 0, 0]'),\n",
              " Text(0.13377926421404682, 0.5, 'x[6869] <= 0.458\\ngini = 0.245\\nsamples = 7\\nvalue = [1, 6, 0, 0]'),\n",
              " Text(0.12040133779264214, 0.4411764705882353, 'gini = 0.0\\nsamples = 6\\nvalue = [0, 6, 0, 0]'),\n",
              " Text(0.14715719063545152, 0.4411764705882353, 'gini = 0.0\\nsamples = 1\\nvalue = [1, 0, 0, 0]'),\n",
              " Text(0.15384615384615385, 0.6764705882352942, 'x[1803] <= 0.038\\ngini = 0.384\\nsamples = 27\\nvalue = [7, 20, 0, 0]'),\n",
              " Text(0.14046822742474915, 0.6176470588235294, 'x[2633] <= 0.258\\ngini = 0.219\\nsamples = 8\\nvalue = [7, 1, 0, 0]'),\n",
              " Text(0.12709030100334448, 0.5588235294117647, 'gini = 0.0\\nsamples = 1\\nvalue = [0, 1, 0, 0]'),\n",
              " Text(0.15384615384615385, 0.5588235294117647, 'gini = 0.0\\nsamples = 7\\nvalue = [7, 0, 0, 0]'),\n",
              " Text(0.16722408026755853, 0.6176470588235294, 'gini = 0.0\\nsamples = 19\\nvalue = [0, 19, 0, 0]'),\n",
              " Text(0.23411371237458195, 0.7352941176470589, 'x[2595] <= 0.005\\ngini = 0.375\\nsamples = 56\\nvalue = [14, 42, 0, 0]'),\n",
              " Text(0.20735785953177258, 0.6764705882352942, 'x[12513] <= 0.357\\ngini = 0.165\\nsamples = 11\\nvalue = [10, 1, 0, 0]'),\n",
              " Text(0.1939799331103679, 0.6176470588235294, 'gini = 0.0\\nsamples = 10\\nvalue = [10, 0, 0, 0]'),\n",
              " Text(0.22073578595317725, 0.6176470588235294, 'gini = 0.0\\nsamples = 1\\nvalue = [0, 1, 0, 0]'),\n",
              " Text(0.2608695652173913, 0.6764705882352942, 'x[245] <= 0.863\\ngini = 0.162\\nsamples = 45\\nvalue = [4, 41, 0, 0]'),\n",
              " Text(0.24749163879598662, 0.6176470588235294, 'x[3209] <= 0.089\\ngini = 0.046\\nsamples = 42\\nvalue = [1, 41, 0, 0]'),\n",
              " Text(0.23411371237458195, 0.5588235294117647, 'gini = 0.0\\nsamples = 1\\nvalue = [1, 0, 0, 0]'),\n",
              " Text(0.2608695652173913, 0.5588235294117647, 'gini = 0.0\\nsamples = 41\\nvalue = [0, 41, 0, 0]'),\n",
              " Text(0.27424749163879597, 0.6176470588235294, 'gini = 0.0\\nsamples = 3\\nvalue = [3, 0, 0, 0]'),\n",
              " Text(0.3277591973244147, 0.7941176470588235, 'x[275] <= 0.246\\ngini = 0.46\\nsamples = 226\\nvalue = [81, 145, 0, 0]'),\n",
              " Text(0.3010033444816054, 0.7352941176470589, 'x[2134] <= 0.001\\ngini = 0.245\\nsamples = 63\\nvalue = [54, 9, 0, 0]'),\n",
              " Text(0.28762541806020064, 0.6764705882352942, 'gini = 0.0\\nsamples = 50\\nvalue = [50, 0, 0, 0]'),\n",
              " Text(0.31438127090301005, 0.6764705882352942, 'x[12818] <= 0.471\\ngini = 0.426\\nsamples = 13\\nvalue = [4, 9, 0, 0]'),\n",
              " Text(0.3010033444816054, 0.6176470588235294, 'gini = 0.0\\nsamples = 4\\nvalue = [4, 0, 0, 0]'),\n",
              " Text(0.3277591973244147, 0.6176470588235294, 'gini = 0.0\\nsamples = 9\\nvalue = [0, 9, 0, 0]'),\n",
              " Text(0.35451505016722407, 0.7352941176470589, 'x[0] <= 601.5\\ngini = 0.276\\nsamples = 163\\nvalue = [27, 136, 0, 0]'),\n",
              " Text(0.3411371237458194, 0.6764705882352942, 'gini = 0.0\\nsamples = 7\\nvalue = [7, 0, 0, 0]'),\n",
              " Text(0.36789297658862874, 0.6764705882352942, 'x[8573] <= 0.907\\ngini = 0.224\\nsamples = 156\\nvalue = [20, 136, 0, 0]'),\n",
              " Text(0.35451505016722407, 0.6176470588235294, 'x[1338] <= 0.931\\ngini = 0.179\\nsamples = 151\\nvalue = [15, 136, 0, 0]'),\n",
              " Text(0.3110367892976589, 0.5588235294117647, 'x[3323] <= 0.791\\ngini = 0.129\\nsamples = 144\\nvalue = [10, 134, 0, 0]'),\n",
              " Text(0.26421404682274247, 0.5, 'x[1673] <= 0.006\\ngini = 0.046\\nsamples = 127\\nvalue = [3, 124, 0, 0]'),\n",
              " Text(0.23745819397993312, 0.4411764705882353, 'x[9356] <= 0.465\\ngini = 0.444\\nsamples = 3\\nvalue = [2, 1, 0, 0]'),\n",
              " Text(0.22408026755852842, 0.38235294117647056, 'gini = 0.0\\nsamples = 1\\nvalue = [0, 1, 0, 0]'),\n",
              " Text(0.2508361204013378, 0.38235294117647056, 'gini = 0.0\\nsamples = 2\\nvalue = [2, 0, 0, 0]'),\n",
              " Text(0.2909698996655518, 0.4411764705882353, 'x[13698] <= 0.0\\ngini = 0.016\\nsamples = 124\\nvalue = [1, 123, 0, 0]'),\n",
              " Text(0.27759197324414714, 0.38235294117647056, 'gini = 0.0\\nsamples = 1\\nvalue = [1, 0, 0, 0]'),\n",
              " Text(0.30434782608695654, 0.38235294117647056, 'gini = 0.0\\nsamples = 123\\nvalue = [0, 123, 0, 0]'),\n",
              " Text(0.35785953177257523, 0.5, 'x[5] <= 732.5\\ngini = 0.484\\nsamples = 17\\nvalue = [7, 10, 0, 0]'),\n",
              " Text(0.34448160535117056, 0.4411764705882353, 'x[3227] <= 0.818\\ngini = 0.346\\nsamples = 9\\nvalue = [7, 2, 0, 0]'),\n",
              " Text(0.3311036789297659, 0.38235294117647056, 'gini = 0.0\\nsamples = 7\\nvalue = [7, 0, 0, 0]'),\n",
              " Text(0.35785953177257523, 0.38235294117647056, 'gini = 0.0\\nsamples = 2\\nvalue = [0, 2, 0, 0]'),\n",
              " Text(0.3712374581939799, 0.4411764705882353, 'gini = 0.0\\nsamples = 8\\nvalue = [0, 8, 0, 0]'),\n",
              " Text(0.3979933110367893, 0.5588235294117647, 'x[12563] <= 0.179\\ngini = 0.408\\nsamples = 7\\nvalue = [5, 2, 0, 0]'),\n",
              " Text(0.38461538461538464, 0.5, 'gini = 0.0\\nsamples = 4\\nvalue = [4, 0, 0, 0]'),\n",
              " Text(0.411371237458194, 0.5, 'x[6] <= 459.0\\ngini = 0.444\\nsamples = 3\\nvalue = [1, 2, 0, 0]'),\n",
              " Text(0.3979933110367893, 0.4411764705882353, 'gini = 0.0\\nsamples = 1\\nvalue = [1, 0, 0, 0]'),\n",
              " Text(0.42474916387959866, 0.4411764705882353, 'gini = 0.0\\nsamples = 2\\nvalue = [0, 2, 0, 0]'),\n",
              " Text(0.38127090301003347, 0.6176470588235294, 'gini = 0.0\\nsamples = 5\\nvalue = [5, 0, 0, 0]'),\n",
              " Text(0.7828177257525084, 0.8529411764705882, 'x[4] <= 667.5\\ngini = 0.425\\nsamples = 1373\\nvalue = [420, 953, 0, 0]'),\n",
              " Text(0.6325250836120402, 0.7941176470588235, 'x[3] <= 399.5\\ngini = 0.486\\nsamples = 968\\nvalue = [402, 566, 0, 0]'),\n",
              " Text(0.5250836120401338, 0.7352941176470589, 'x[6] <= 420.0\\ngini = 0.172\\nsamples = 494\\nvalue = [47, 447, 0, 0]'),\n",
              " Text(0.5117056856187291, 0.6764705882352942, 'gini = 0.0\\nsamples = 12\\nvalue = [12, 0, 0, 0]'),\n",
              " Text(0.5384615384615384, 0.6764705882352942, 'x[12764] <= 0.948\\ngini = 0.135\\nsamples = 482\\nvalue = [35, 447, 0, 0]'),\n",
              " Text(0.5050167224080268, 0.6176470588235294, 'x[7844] <= 0.935\\ngini = 0.098\\nsamples = 465\\nvalue = [24, 441, 0, 0]'),\n",
              " Text(0.4782608695652174, 0.5588235294117647, 'x[6178] <= 0.995\\ngini = 0.076\\nsamples = 458\\nvalue = [18, 440, 0, 0]'),\n",
              " Text(0.46488294314381273, 0.5, 'x[6425] <= 0.963\\ngini = 0.06\\nsamples = 454\\nvalue = [14, 440, 0, 0]'),\n",
              " Text(0.451505016722408, 0.4411764705882353, 'x[14249] <= 0.777\\ngini = 0.048\\nsamples = 451\\nvalue = [11, 440, 0, 0]'),\n",
              " Text(0.43812709030100333, 0.38235294117647056, 'x[1359] <= 0.0\\ngini = 0.039\\nsamples = 449\\nvalue = [9, 440, 0, 0]'),\n",
              " Text(0.42474916387959866, 0.3235294117647059, 'gini = 0.0\\nsamples = 2\\nvalue = [2, 0, 0, 0]'),\n",
              " Text(0.451505016722408, 0.3235294117647059, 'x[3375] <= 0.002\\ngini = 0.031\\nsamples = 447\\nvalue = [7, 440, 0, 0]'),\n",
              " Text(0.42474916387959866, 0.2647058823529412, 'x[4319] <= 0.804\\ngini = 0.426\\nsamples = 13\\nvalue = [4, 9, 0, 0]'),\n",
              " Text(0.411371237458194, 0.20588235294117646, 'gini = 0.0\\nsamples = 4\\nvalue = [4, 0, 0, 0]'),\n",
              " Text(0.43812709030100333, 0.20588235294117646, 'gini = 0.0\\nsamples = 9\\nvalue = [0, 9, 0, 0]'),\n",
              " Text(0.4782608695652174, 0.2647058823529412, 'x[3040] <= 0.997\\ngini = 0.014\\nsamples = 434\\nvalue = [3, 431, 0, 0]'),\n",
              " Text(0.46488294314381273, 0.20588235294117646, 'x[30] <= 0.016\\ngini = 0.009\\nsamples = 433\\nvalue = [2, 431, 0, 0]'),\n",
              " Text(0.451505016722408, 0.14705882352941177, 'gini = 0.0\\nsamples = 1\\nvalue = [1, 0, 0, 0]'),\n",
              " Text(0.4782608695652174, 0.14705882352941177, 'x[10] <= 0.889\\ngini = 0.005\\nsamples = 432\\nvalue = [1, 431, 0, 0]'),\n",
              " Text(0.46488294314381273, 0.08823529411764706, 'x[3108] <= 0.302\\ngini = 0.5\\nsamples = 2\\nvalue = [1, 1, 0, 0]'),\n",
              " Text(0.451505016722408, 0.029411764705882353, 'gini = 0.0\\nsamples = 1\\nvalue = [1, 0, 0, 0]'),\n",
              " Text(0.4782608695652174, 0.029411764705882353, 'gini = 0.0\\nsamples = 1\\nvalue = [0, 1, 0, 0]'),\n",
              " Text(0.4916387959866221, 0.08823529411764706, 'gini = 0.0\\nsamples = 430\\nvalue = [0, 430, 0, 0]'),\n",
              " Text(0.4916387959866221, 0.20588235294117646, 'gini = 0.0\\nsamples = 1\\nvalue = [1, 0, 0, 0]'),\n",
              " Text(0.46488294314381273, 0.38235294117647056, 'gini = 0.0\\nsamples = 2\\nvalue = [2, 0, 0, 0]'),\n",
              " Text(0.4782608695652174, 0.4411764705882353, 'gini = 0.0\\nsamples = 3\\nvalue = [3, 0, 0, 0]'),\n",
              " Text(0.4916387959866221, 0.5, 'gini = 0.0\\nsamples = 4\\nvalue = [4, 0, 0, 0]'),\n",
              " Text(0.5317725752508361, 0.5588235294117647, 'x[8183] <= 0.95\\ngini = 0.245\\nsamples = 7\\nvalue = [6, 1, 0, 0]'),\n",
              " Text(0.5183946488294314, 0.5, 'gini = 0.0\\nsamples = 6\\nvalue = [6, 0, 0, 0]'),\n",
              " Text(0.5451505016722408, 0.5, 'gini = 0.0\\nsamples = 1\\nvalue = [0, 1, 0, 0]'),\n",
              " Text(0.5719063545150501, 0.6176470588235294, 'x[7837] <= 0.194\\ngini = 0.457\\nsamples = 17\\nvalue = [11, 6, 0, 0]'),\n",
              " Text(0.5585284280936454, 0.5588235294117647, 'gini = 0.0\\nsamples = 6\\nvalue = [0, 6, 0, 0]'),\n",
              " Text(0.5852842809364549, 0.5588235294117647, 'gini = 0.0\\nsamples = 11\\nvalue = [11, 0, 0, 0]'),\n",
              " Text(0.7399665551839465, 0.7352941176470589, 'x[2] <= 438.5\\ngini = 0.376\\nsamples = 474\\nvalue = [355, 119, 0, 0]'),\n",
              " Text(0.6521739130434783, 0.6764705882352942, 'x[10843] <= 0.0\\ngini = 0.135\\nsamples = 275\\nvalue = [255, 20, 0, 0]'),\n",
              " Text(0.6254180602006689, 0.6176470588235294, 'x[6423] <= 0.839\\ngini = 0.26\\nsamples = 13\\nvalue = [2, 11, 0, 0]'),\n",
              " Text(0.6120401337792643, 0.5588235294117647, 'gini = 0.0\\nsamples = 11\\nvalue = [0, 11, 0, 0]'),\n",
              " Text(0.6387959866220736, 0.5588235294117647, 'gini = 0.0\\nsamples = 2\\nvalue = [2, 0, 0, 0]'),\n",
              " Text(0.6789297658862876, 0.6176470588235294, 'x[8112] <= 0.203\\ngini = 0.066\\nsamples = 262\\nvalue = [253, 9, 0, 0]'),\n",
              " Text(0.6655518394648829, 0.5588235294117647, 'x[12094] <= 0.996\\ngini = 0.031\\nsamples = 257\\nvalue = [253, 4, 0, 0]'),\n",
              " Text(0.6387959866220736, 0.5, 'x[126] <= 0.939\\ngini = 0.008\\nsamples = 253\\nvalue = [252, 1, 0, 0]'),\n",
              " Text(0.6254180602006689, 0.4411764705882353, 'gini = 0.0\\nsamples = 252\\nvalue = [252, 0, 0, 0]'),\n",
              " Text(0.6521739130434783, 0.4411764705882353, 'gini = 0.0\\nsamples = 1\\nvalue = [0, 1, 0, 0]'),\n",
              " Text(0.6923076923076923, 0.5, 'x[2138] <= 0.545\\ngini = 0.375\\nsamples = 4\\nvalue = [1, 3, 0, 0]'),\n",
              " Text(0.6789297658862876, 0.4411764705882353, 'gini = 0.0\\nsamples = 3\\nvalue = [0, 3, 0, 0]'),\n",
              " Text(0.705685618729097, 0.4411764705882353, 'gini = 0.0\\nsamples = 1\\nvalue = [1, 0, 0, 0]'),\n",
              " Text(0.6923076923076923, 0.5588235294117647, 'gini = 0.0\\nsamples = 5\\nvalue = [0, 5, 0, 0]'),\n",
              " Text(0.8277591973244147, 0.6764705882352942, 'x[1722] <= 0.183\\ngini = 0.5\\nsamples = 199\\nvalue = [100, 99, 0, 0]'),\n",
              " Text(0.782608695652174, 0.6176470588235294, 'x[1] <= 527.5\\ngini = 0.449\\nsamples = 144\\nvalue = [95, 49, 0, 0]'),\n",
              " Text(0.7324414715719063, 0.5588235294117647, 'x[11309] <= 0.813\\ngini = 0.239\\nsamples = 36\\nvalue = [5, 31, 0, 0]'),\n",
              " Text(0.7190635451505016, 0.5, 'gini = 0.0\\nsamples = 30\\nvalue = [0, 30, 0, 0]'),\n",
              " Text(0.745819397993311, 0.5, 'x[12238] <= 0.938\\ngini = 0.278\\nsamples = 6\\nvalue = [5, 1, 0, 0]'),\n",
              " Text(0.7324414715719063, 0.4411764705882353, 'gini = 0.0\\nsamples = 5\\nvalue = [5, 0, 0, 0]'),\n",
              " Text(0.7591973244147158, 0.4411764705882353, 'gini = 0.0\\nsamples = 1\\nvalue = [0, 1, 0, 0]'),\n",
              " Text(0.8327759197324415, 0.5588235294117647, 'x[7568] <= 0.612\\ngini = 0.278\\nsamples = 108\\nvalue = [90, 18, 0, 0]'),\n",
              " Text(0.7993311036789298, 0.5, 'x[11527] <= 0.001\\ngini = 0.305\\nsamples = 16\\nvalue = [3, 13, 0, 0]'),\n",
              " Text(0.7859531772575251, 0.4411764705882353, 'gini = 0.0\\nsamples = 13\\nvalue = [0, 13, 0, 0]'),\n",
              " Text(0.8127090301003345, 0.4411764705882353, 'gini = 0.0\\nsamples = 3\\nvalue = [3, 0, 0, 0]'),\n",
              " Text(0.8662207357859532, 0.5, 'x[10598] <= 0.939\\ngini = 0.103\\nsamples = 92\\nvalue = [87, 5, 0, 0]'),\n",
              " Text(0.8394648829431438, 0.4411764705882353, 'x[1419] <= 0.596\\ngini = 0.023\\nsamples = 87\\nvalue = [86, 1, 0, 0]'),\n",
              " Text(0.8260869565217391, 0.38235294117647056, 'gini = 0.0\\nsamples = 86\\nvalue = [86, 0, 0, 0]'),\n",
              " Text(0.8528428093645485, 0.38235294117647056, 'gini = 0.0\\nsamples = 1\\nvalue = [0, 1, 0, 0]'),\n",
              " Text(0.8929765886287625, 0.4411764705882353, 'x[10229] <= 0.884\\ngini = 0.32\\nsamples = 5\\nvalue = [1, 4, 0, 0]'),\n",
              " Text(0.8795986622073578, 0.38235294117647056, 'gini = 0.0\\nsamples = 4\\nvalue = [0, 4, 0, 0]'),\n",
              " Text(0.9063545150501672, 0.38235294117647056, 'gini = 0.0\\nsamples = 1\\nvalue = [1, 0, 0, 0]'),\n",
              " Text(0.8729096989966555, 0.6176470588235294, 'x[6622] <= 0.0\\ngini = 0.165\\nsamples = 55\\nvalue = [5, 50, 0, 0]'),\n",
              " Text(0.8595317725752508, 0.5588235294117647, 'gini = 0.0\\nsamples = 5\\nvalue = [5, 0, 0, 0]'),\n",
              " Text(0.8862876254180602, 0.5588235294117647, 'gini = 0.0\\nsamples = 50\\nvalue = [0, 50, 0, 0]'),\n",
              " Text(0.9331103678929766, 0.7941176470588235, 'x[1269] <= 0.501\\ngini = 0.085\\nsamples = 405\\nvalue = [18, 387, 0, 0]'),\n",
              " Text(0.9063545150501672, 0.7352941176470589, 'x[8965] <= 0.004\\ngini = 0.49\\nsamples = 14\\nvalue = [8, 6, 0, 0]'),\n",
              " Text(0.8929765886287625, 0.6764705882352942, 'gini = 0.0\\nsamples = 8\\nvalue = [8, 0, 0, 0]'),\n",
              " Text(0.919732441471572, 0.6764705882352942, 'gini = 0.0\\nsamples = 6\\nvalue = [0, 6, 0, 0]'),\n",
              " Text(0.959866220735786, 0.7352941176470589, 'x[3] <= 437.0\\ngini = 0.05\\nsamples = 391\\nvalue = [10, 381, 0, 0]'),\n",
              " Text(0.9464882943143813, 0.6764705882352942, 'gini = 0.0\\nsamples = 3\\nvalue = [3, 0, 0, 0]'),\n",
              " Text(0.9732441471571907, 0.6764705882352942, 'x[35] <= 1.0\\ngini = 0.035\\nsamples = 388\\nvalue = [7, 381, 0, 0]'),\n",
              " Text(0.959866220735786, 0.6176470588235294, 'x[11670] <= 0.0\\ngini = 0.026\\nsamples = 386\\nvalue = [5, 381, 0, 0]'),\n",
              " Text(0.9464882943143813, 0.5588235294117647, 'gini = 0.0\\nsamples = 1\\nvalue = [1, 0, 0, 0]'),\n",
              " Text(0.9732441471571907, 0.5588235294117647, 'x[9308] <= 0.945\\ngini = 0.021\\nsamples = 385\\nvalue = [4, 381, 0, 0]'),\n",
              " Text(0.959866220735786, 0.5, 'x[7692] <= 0.905\\ngini = 0.016\\nsamples = 384\\nvalue = [3, 381, 0, 0]'),\n",
              " Text(0.9464882943143813, 0.4411764705882353, 'x[4727] <= 0.962\\ngini = 0.01\\nsamples = 383\\nvalue = [2, 381, 0, 0]'),\n",
              " Text(0.9331103678929766, 0.38235294117647056, 'x[14031] <= 0.077\\ngini = 0.005\\nsamples = 382\\nvalue = [1, 381, 0, 0]'),\n",
              " Text(0.919732441471572, 0.3235294117647059, 'x[6576] <= 0.009\\ngini = 0.444\\nsamples = 3\\nvalue = [1, 2, 0, 0]'),\n",
              " Text(0.9063545150501672, 0.2647058823529412, 'gini = 0.0\\nsamples = 1\\nvalue = [1, 0, 0, 0]'),\n",
              " Text(0.9331103678929766, 0.2647058823529412, 'gini = 0.0\\nsamples = 2\\nvalue = [0, 2, 0, 0]'),\n",
              " Text(0.9464882943143813, 0.3235294117647059, 'gini = 0.0\\nsamples = 379\\nvalue = [0, 379, 0, 0]'),\n",
              " Text(0.959866220735786, 0.38235294117647056, 'gini = 0.0\\nsamples = 1\\nvalue = [1, 0, 0, 0]'),\n",
              " Text(0.9732441471571907, 0.4411764705882353, 'gini = 0.0\\nsamples = 1\\nvalue = [1, 0, 0, 0]'),\n",
              " Text(0.9866220735785953, 0.5, 'gini = 0.0\\nsamples = 1\\nvalue = [1, 0, 0, 0]'),\n",
              " Text(0.9866220735785953, 0.6176470588235294, 'gini = 0.0\\nsamples = 2\\nvalue = [2, 0, 0, 0]')]"
            ]
          },
          "metadata": {},
          "execution_count": 47
        },
        {
          "output_type": "display_data",
          "data": {
            "text/plain": [
              "<Figure size 640x480 with 1 Axes>"
            ],
            "image/png": "[encoded data removed]"
          },
          "metadata": {}
        }
      ]
    },
    {
      "cell_type": "code",
      "source": [
        "y_pred_concat_dt = concat_dtree.predict(X_test_concat)\n",
        "\n",
        "from sklearn.metrics import accuracy_score\n",
        "\n",
        "print('Model accuracy score: {0:0.4f}'. format(accuracy_score(y_test_concat, y_pred_concat_dt)))"
      ],
      "metadata": {
        "colab": {
          "base_uri": "https://localhost:8080/"
        },
        "id": "3nO-90hDc26O",
        "outputId": "23ae6b9c-1a89-4325-db60-5b1668bc55c1"
      },
      "execution_count": null,
      "outputs": [
        {
          "output_type": "stream",
          "name": "stdout",
          "text": [
            "Model accuracy score: 0.9625\n"
          ]
        }
      ]
    }
  ]
}